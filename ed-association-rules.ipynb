{
 "cells": [
  {
   "cell_type": "markdown",
   "metadata": {},
   "source": [
    "Our first step is to download a piece of text from Wikipedia and to parse paragraphs."
   ]
  },
  {
   "cell_type": "code",
   "execution_count": 2,
   "metadata": {
    "ExecuteTime": {
     "end_time": "2020-04-02T18:56:21.496290Z",
     "start_time": "2020-04-02T18:56:20.632354Z"
    }
   },
   "outputs": [
    {
     "name": "stdout",
     "output_type": "stream",
     "text": [
      "['\\n', \"Poznań (Polish:\\xa0[ˈpɔznaɲ] (listen))[a] is a city on the River Warta in west-central Poland, within the Greater Poland region. The city is an important cultural and business centre, and one of Poland's most populous regions with many regional customs such as Saint John's Fair (Jarmark Świętojański), traditional Saint Martin's croissants and a local dialect. Among its most important heritage sites are the Renaissance Old Town, Town Hall and Gothic Cathedral.\\n\", \"Poznań is the fifth-largest and one of the oldest cities in Poland. As of 2021, the city's population is 529,410, while the Poznań metropolitan area (Metropolia Poznań) comprising Poznań County and several other communities is inhabited by over 1.1\\xa0million people.[2] It is one of four historical capitals of medieval Poland and the ancient capital of the Greater Poland region, currently the administrative capital of the province called Greater Poland Voivodeship.\\n\", \"Poznań is a center of trade, sports, education, technology and tourism. It is an important academic site, with about 130,000 students and Adam Mickiewicz University, the third largest Polish university. The city serves as the seat of the oldest Polish diocese, now being one of the most populous Catholic archdioceses in the country. The city also hosts the Poznań International Fair – the biggest industrial fair in Poland and one of the largest fairs in Europe. The city's other renowned landmarks include the National Museum, Grand Theatre, Fara Church and the Imperial Castle.\\n\", 'Poznań is classified as a Gamma− global city by Globalization and World Cities Research Network.[4] According to several rankings it is one of the most business-friendly cities in Poland.[5] It also ranks highly in safety and healthcare quality.[6] The city of Poznań has also, many times, won the prize awarded by \"Superbrands\" for a very high quality city brand. In 2012, the Poznań\\'s Art and Business Center \"Stary Browar\" won a competition organised by National Geographic Traveler and was given the first prize as one of the seven \"New Polish Wonders\". Companies headquartered in the city include energy provider Enea and e-commerce company Allegro.\\n', 'The official patron saints of Poznań are Saint Peter and Paul of Tarsus, the patrons of the cathedral. Martin of Tours – the patron of the main street Święty Marcin – is also regarded as one of the patron saints of the city.\\n', 'The name Poznań probably comes from a personal name Poznan, which was in turn derived from the Polish participle poznan(y) – \"one who is known/recognized\", and would mean \"Poznan\\'s town\". It is also possible that the name comes directly from the verb poznać, which means \"to get to know\" or \"to recognize\", so it may simply mean \"known town\".\\n', 'The earliest surviving references to the city are found in the chronicles of Thietmar of Merseburg written between 1012 and 1018: episcopus Posnaniensis (\"bishop of Poznań\", in an entry for 970) and ab urbe Posnani (\"from the city of Poznań\", for 1005). The city\\'s name appears in documents in the Latin nominative case as Posnania in 1236 and Poznania in 1247. The phrase in Poznan appears in 1146 and 1244.\\n', \"The city's full official name is Stołeczne Miasto Poznań (The Capital City of Poznań), in reference to its role as a centre of political power in the early Polish state under the Piast dynasty. Poznań is known as Posen in German, and was officially called Haupt- und Residenzstadt Posen (Capital and Residence City of Poznań) between 20 August 1910 and 28 November 1918. The Latin names of the city are Posnania and Civitas Posnaniensis. Its Yiddish name is פּױזן, or Poyzn.\\n\", \"In Polish, the city's name has masculine grammatical gender.\\n\", \"For centuries before the Christianization of Poland (an event that essentially is credited as the creation of the very first Polish state, the Duchy of Poland), Poznań was an important cultural and political centre of the Western Polans. It consisted of a fortified stronghold between the Warta and Cybina rivers on what is now Ostrów Tumski. Mieszko I, the first historically recorded ruler of the West Polans and of the early Polish state which they dominated, built one of his main stable headquarters in Poznań. Mieszko's baptism in AD 966, seen as a defining moment in the Christianization of the Polish state, may have taken place in Poznań.[7]\\n\", \"Following the baptism, construction began of Poznań's cathedral, the first in Poland. Poznań was probably the main seat of the first missionary bishop sent to Poland, Bishop Jordan. The Congress of Gniezno in 1000 led to the country's first permanent archbishopric being established in Gniezno (which is generally regarded as Poland's capital in that period), although Poznań continued to have independent bishops of its own. Poznań's cathedral was the place of burial of the early Piast monarchs, among them Mieszko I, Boleslaus I, Mieszko II Lambert, Casimir I, and later of Przemysł I and Przemysł II.[8]\\n\", \"The pagan reaction that followed Mieszko II's death (probably in Poznań) in 1034 left the region weak, and in 1038, Duke Bretislaus I of Bohemia sacked and destroyed both Poznań and Gniezno. Poland was reunited under Casimir I the Restorer in 1039, but the capital was moved to Kraków, which had been relatively unaffected by the troubles. In 1138, by the testament of Boleslaus III, Poland was divided into separate duchies under the late king's sons, and Poznań and its surroundings became the domain of Mieszko III the Old, the first of the Dukes of Greater Poland. This period of fragmentation lasted until 1320. Duchies frequently changed hands; control of Poznań, Gniezno and Kalisz sometimes lay with a single duke, but at other times these constituted separate duchies.\\n\", \"In about 1249, Duke Przemysł I began constructing what would become the Royal Castle on a hill on the left bank of the Warta. Then in 1253, Przemysł issued a charter to Thomas of Guben (Gubin) for the founding of a town under Magdeburg law, between the castle and the river. Thomas brought a large number of German settlers to aid in the building and settlement of the city – this is an example of the German eastern migration (Ostsiedlung) characteristic of that period.[9][10] The city, which covered the area of today's Old Town neighbourhood, was surrounded by a defensive wall, integrated with the castle.[11] The royal chancery and the university ensured a first flourishing of Polish literary culture in the city.\\n\", \"In reunited Poland, and later in the Polish–Lithuanian Commonwealth, Poznań was the seat of a voivodeship. The city's importance began to grow in the Jagiellonian period, due to its position on trading routes from Lithuania and Ruthenia to western Europe. It would become a major center for the fur trade by the late 16th century. Suburban settlements developed around the city walls, on the river islands, and on the right bank, with some (Ostrów Tumski, Śródka, Chwaliszewo, Ostrówek) obtaining their own town charters. However, the city's development was hampered by regular major fires and floods. On 2 May 1536 a fire destroyed 175 buildings, including the castle, the town hall, the monastery, and the suburban settlement called St. Martin.[12] In 1519, the Lubrański Academy had been established in Poznań as an institution of higher education, but without the right to award degrees, which was reserved to Kraków's Jagiellonian University. However, the Jesuits' college, founded in the city in 1571 during the Counter-Reformation, had the right to award degrees from 1611 until 1773, when it was combined with the academy.\\n\", 'In the second half of the 17th century and most of the 18th, Poznań was severely affected by a series of wars, attendant military occupations, lootings and destruction – the Second and Third Northern Wars, the War of the Polish Succession, the Seven Years\\' War and the Bar Confederation rebellion. It was also hit by frequent outbreaks of plague, and by floods, particularly that of 1736, which destroyed most of the suburban buildings. The population of the conurbation declined from 20,000 around 1600 to 6,000 around 1730, and Bambergian and Dutch settlers (Bambrzy and Olędrzy) were brought in to rebuild the devastated suburbs. In 1778, a \"Committee of Good Order\" (Komisja Dobrego Porządku) was established in the city, which oversaw rebuilding efforts and reorganized the city\\'s administration. However, in 1793, in the Second Partition of Poland, Poznań came under the control of the Kingdom of Prussia, becoming part of (and initially the seat of) the province of South Prussia.\\n', \"The Prussian authorities expanded the city boundaries, making the walled city and its closest suburbs into a single administrative unit. Left-bank suburbs were incorporated in 1797, and Ostrów Tumski, Chwaliszewo, Śródka, Ostrówek and Łacina (St. Roch) in 1800. The old city walls were taken down in the early 19th century, and major development took place to the west of the old city, with many of the main streets of today's city center being laid out.\\n\", 'In the Greater Poland uprising of 1806, Polish soldiers and civilian volunteers assisted the efforts of Napoleon by driving out Prussian forces from the region. The city became a part of the Duchy of Warsaw in 1807, and was the seat of Poznań Department – a unit of administrative division and local government. However, in 1815, following the Congress of Vienna, the region was returned to Prussia, and Poznań became the capital of the semi-autonomous Grand Duchy of Posen. Around 1820, Poznań had over 20,000 inhabitants, 70% of whom were Poles, 20% Jews, and 10% Germans.\\n', \"The city continued to expand, and various projects were funded by Polish philanthropists, such as the Raczyński Library and the Bazar hotel. The city's first railway, running north-west to Stargard, opened in 1848. Due to its strategic location, the Prussian authorities intended to make Poznań into a fortress city, building a ring of defensive fortifications around it. Work began on the citadel with Fort Winiary in 1828, and in subsequent years the entire set of defenses called Festung Posen was completed.\\n\", \"A Greater Poland Uprising during the Revolutions of 1848 was ultimately unsuccessful, and the Grand Duchy lost its remaining autonomy, Poznań becoming simply the capital of the Prussian Province of Posen. It would become part of the German Empire with the unification of German states in 1871. Polish patriots continued to form societies such as the Central Economic Society for the Grand Duchy of Poznań, and a Polish theatre opened in 1875. However, the authorities made efforts to Germanize the region, particularly through the Prussian Settlement Commission founded in 1886. Germans accounted for 38% of the city's population in 1867, though this percentage would later decline somewhat, particularly after the region returned to Poland.\\n\", \"Another expansion of Festung Posen was planned, with an outer ring of more widely spaced forts around the perimeter of the city. Building of the first nine forts began in 1876, and nine intermediate forts were built from 1887. The inner ring of fortifications was now considered obsolete and came to be mostly taken down by the early 20th century, although the citadel remained in use. This made space for further civilian construction, particularly the Imperial Castle (Zamek) which was completed in 1910, and other grand buildings around it, including today's central university buildings and the opera house. The city's boundaries were also significantly extended to take in former suburban villages: Piotrowo and Berdychowo in 1896, Łazarz, Górczyn, Jeżyce and Wilda in 1900, and Sołacz in 1907. \\nIn 1910, Poznań had 156,696 inhabitants, of which nearly 60% were Poles (over 91,000 Polish inhabitants of the city), and around 40% were Germans (over 65,000 German inhabitants of the city). Other nationalities accounted for 1-2% of the population (mainly Jews).\\n\", \"At the end of World War I, the final Greater Poland Uprising in 1918–1919 brought Poznań and most of the region back to newly reborn Poland, which was confirmed by the Treaty of Versailles. The local German populace had to acquire Polish citizenship or leave the country. This led to a wide emigration of the ethnic Germans of the town's population – the town's German population decreased from 65,321 in 1910 to 5,980 in 1926 and further to 4,387 in 1934.[13] In the interwar Second Polish Republic, the city again became the capital of Poznań Voivodeship. Poznań's university, today called Adam Mickiewicz University, was founded in 1919, and in 1924 the Poznań International Fair began. In 1929, the fair site was the venue for a major National Exhibition (Powszechna Wystawa Krajowa, popularly PeWuKa) marking the tenth anniversary of independence; it attracted around 4.5\\xa0million visitors. In the 1930s, the fair ranked as Europe's fourth largest organiser of international trade events.[14] The city's boundaries were again expanded in 1925 to include Główna, Komandoria, Rataje, Starołęka, Dębiec, Szeląg and Winogrady, and in 1933: Golęcin and Podolany.\\n\", 'During the German occupation of 1939–1945, Poznań was incorporated into the Nazi Germany as the capital of Reichsgau Wartheland. Many Polish inhabitants were executed, arrested, expelled to the General Government or used as forced labour; at the same time, many Germans and Volksdeutsche were settled in the city. The German population increased from around 5,000 in 1939 (some 2% of the inhabitants) to around 95,000 in 1944.[15][16]\\n', \"The Jewish community's history in the city dates back to the 13th century.[17] In the past, the Jewish council in Poznan became one of the oldest and most important Jewish councils in Poland.[18] The pre-war Jewish population of at least about 2,000[19] were mostly murdered in the Holocaust. A concentration camp was set up in Fort VII, one of the 19th-century perimeter forts. The camp was later moved to Żabikowo south of Poznań.\\n\", \"The Nazi authorities significantly expanded Poznań's boundaries to include most of the present-day area of the city; these boundaries were retained after the war. Poznań was captured by the Red Army, assisted by Polish volunteers, on 23 February 1945 following the Battle of Poznań, in which the German army conducted a last-ditch defense in line with Hitler's designation of the city as a Festung. The Citadel was the last point to be taken, and the fighting left much of the city, particularly the Old Town, in ruins. Many monuments were also destroyed, including Gutzon Borglum's statue of Woodrow Wilson in Poznan.[20]\\n\", \"Due to the expulsion and flight of German population Poznań's post-war population was almost uniformly Polish. The city again became a voivodeship capital. In 1950, the size of Poznań Voivodeship was reduced, and the city itself was given separate voivodeship status. This status was lost in the 1975 reforms, which also significantly reduced the size of Poznań Voivodeship.\\n\", \"The Poznań 1956 protests are seen as an early instance of discontent with communist rule. In June 1956, a protest by workers at the city's Cegielski locomotive factory developed into a series of strikes and popular protests against the policies of the government. After a protest march on 28 June was fired on, crowds attacked the communist party and secret police headquarters, where they were repulsed by gunfire. Riots continued for two days until being quelled by the army; 67 people were killed according to official figures. A monument to the victims was erected in 1981 at Plac Mickiewicza.[21]\\n\", 'The post-war years had seen much reconstruction work on buildings damaged in the fighting. From the 1960s onwards intensive housing development took place, consisting mainly of pre-fabricated concrete blocks of flats, especially in Rataje and Winogrady, and later Piątkowo, following its incorporation into the city in 1974. Another infrastructural change, which was completed in 1968, was the rerouting of the river Warta to follow two straight branches either side of Ostrów Tumski.\\n', \"The most recent expansion of the city's boundaries took place in 1987, with the addition of new areas mainly to the north, including Morasko, Radojewo and Kiekrz. The first free local elections following the fall of communism took place in 1990. With the Polish local government reforms of 1999, Poznań again became the capital of a larger province entitled Greater Poland Voivodeship. It also became the seat of a powiat Poznań County, with the city itself gaining separate powiat status.\\n\", \"Post-communism infrastructural developments include the opening of the Pestka Fast Tram route in 1997, and Poznań's first motorway connections in 2003 as Poland's east–west A2 highway runs south of the city centre, serving also as a bypass. In 2006 country's first F-16 Fighting Falcons came to be stationed at the 31st Air Base in Krzesiny in the south-east of the city.\\n\", 'Poznań continues to host regular trade fairs and international events, including the United Nations Climate Change Conference in 2008. It was one of the host cities for UEFA Euro 2012.\\n', \"Poznań covers an area of 261.3\\xa0km2 (100.9\\xa0sq\\xa0mi), and has coordinates in the range 52°17'34''–52°30'27''N, 16°44'08''–17°04'28''E. Its highest point, with an altitude of 157\\xa0m (515\\xa0ft), is the summit of Morasko hill within the Morasko meteorite nature reserve in the north of the city. The lowest altitude is 60\\xa0m (197\\xa0ft), in the Warta valley.\\n\", 'Poznań\\'s main river is the Warta, which flows through the city from south to north. As it approaches the city centre it divides into two branches, flowing west and east of Ostrów Tumski Cathedral island, and meeting again further north. The smaller Cybina river flows through eastern Poznań to meet the east branch of the Warta, which is also called Cybina – its northern section was originally a continuation of that river, while its southern section has been artificially widened to form a main stream of the Warta. Other tributaries of the Warta within Poznań are the Junikowo Stream (Strumień Junikowski), which flows through southern Poznań from the west, meeting the Warta just outside the city boundary in Luboń; the Bogdanka and Wierzbak, formerly two separate tributaries flowing from the north-west and along the north side of the city centre, now with their lower sections diverted underground; the Główna, flowing through the neighbourhood of the same name in north-east Poznań; and the Rose Stream (Strumień Różany) flowing east from Morasko in the north of the city. The course of the Warta in central Poznań was formerly quite different from today: the main stream ran between Grobla and Chwaliszewo, which were originally both islands. The branch west of Grobla (the Zgniła Warta – \"rotten Warta\") was filled in late in the 19th century, and the former main stream west of Chwaliszewo was diverted and filled in during the 1960s. This was done partly to prevent floods, which did serious damage to Poznań frequently throughout history.\\n', \"Poznań's largest lake is Kiekrz in the north-west end of the city. Other large lakes include Malta, an artificial lake formed in 1952 on the lower Cybina river, Strzeszyn on the Bogdanka, and Rusałka, an artificial lake formed in 1943 further down the Bogdanka river. The latter two are popular bathing places. Kiekrz lake is much used for sailing, while Malta is a competitive rowing and canoeing venue.\\n\", 'The city centre – including the Old Town, the former islands of Grobla and Chwaliszewo, the main street Święty Marcin and many other important buildings and districts – lies on the west side of the Warta. Opposite it between the two branches of the Warta is Ostrów Tumski, containing Cathedral and other ecclesiastical buildings, as well as housing and industrial facilities. Facing the cathedral on the east bank of the river is the historic district of Śródka. Large areas of apartment blocks, built from the 1960s onwards, include Rataje in the east, and Winogrady and Piątkowo north of the centre. Older residential and commercial districts include those of Wilda, Łazarz and Górczyn to the south, and Jeżyce to the west. There are also significant areas of forest within the city boundaries, particularly in the east adjoining Swarzędz, and around the lakes in the north-west.\\n', \"For more details on Poznań's geography, see the articles on its five main districts: Stare Miasto, Nowe Miasto, Jeżyce, Grunwald, and Wilda.\\n\", 'The climate of Poznań is within the transition zone between a humid continental and oceanic climate (Köppen: Cfb to Dfb although it just fits in the second in the 0\\xa0°C isotherm) and with relatively cold winters and warm summers. Snow is common in winter, when night-time temperatures are typically below zero. In summer temperatures may often reach 30\\xa0°C (86\\xa0°F). Annual rainfall is more than 500\\xa0mm (20\\xa0in), among the lowest in Poland. The rainiest month is July, mainly due to short but intense cloudbursts and thunderstorms. The number of hours of sunshine are among the highest in the country. Climate in this area has mild differences between highs and lows, and there is adequate rainfall year-round. The Köppen Climate Classification subtype for this climate is \"humid continental climate).[22] The warmest temperature was recorded on 11 July 1959 at 38.7\\xa0°C (101.7\\xa0°F)\\n', 'Poznań is divided into 42 neighbourhoods called osiedle, each of which has its own elected council with certain decision-making and spending powers. The first uniform elections for these councils covering the whole area of the city were held on 20 March 2011.[citation needed]\\n', 'For certain administrative purposes, the old division into five districts called dzielnica is used – although these ceased to be governmental units in 1990. These were:\\n', 'Many citizens of Poznań thanks to the strong economy of the city and high salaries started moving to suburbs of the Poznań County (powiat) in the 1990s.[citation needed] Although the number of inhabitants in Poznań itself was decreasing for the past two decades, the suburbs gained almost twice as many inhabitants.[citation needed] The Poznań metropolitan area Metropolia Poznań comprising Poznań County and several other communities is home to over 1\\xa0million inhabitants.[2] The complex infrastructure, population density, number of companies and gross product per capita of Poznań suburbs may be only compared to Warsaw suburbs.[citation needed] Many parts of closer suburbs such as Tarnowo Podgorne, Komorniki, Suchy Las, and Dopiewo produce more in terms of GDP per capita than the city itself.[citation needed]\\n', \"Poznań has been an important trade centre since the Middle Ages. Starting in the 19th century, local heavy industry began to grow. Several major factories were built, including the Hipolit Cegielski's steel mill and railway factory, popularly called Ceglorz.\\n\", \"Nowadays, Poznań is one of the major trade centres in Poland. It is regarded as the second most prosperous city in Poland after its capital Warsaw.[35] The city of Poznań produced PLN 31.8\\xa0billion of Poland's gross domestic product in 2006.\\n\", 'Many Western European companies have established their Polish headquarters in Poznań or in nearby towns such as Tarnowo Podgórne and Swarzędz. Most foreign investors are German (36%) and Dutch companies (14%).[2] The best known examples of corporation who have their headquarters in Poznań and the surrounding areas are that of Volkswagen,[36] GlaxoSmithKline, Amazon, Bridgestone, Beiersdorf, Raben Group (near Kórnik) and Kuehne + Nagel (near Gądki). There are also several shared services centers, and IT branch offices. Investors are mostly from the food processing, furniture, automotive and transport and logistics industries. Foreign companies are primarily attracted by relatively low labour costs, good road and railway network, good vocational skills of workers, and relatively liberal employment laws.[citation needed]\\n', \"Some of the best-known major corporations founded and still based in Poznań and the city's metropolitan area include Allegro – owner of the Poland's biggest e-commerce site, H. Cegielski-Poznań SA – a historic manufacturer, Solaris Bus & Coach – a modern bus and coach maker based in Bolechowo, and Enea S.A. – one of the country's biggest energy firms. Kompania Piwowarska based in Poznań produces some of Poland's best known beers, and includes not only the local Lech Brewery's products but also Tyskie from Tychy and Dojlidy Brewery from Białystok among many others.\\n\", 'In 2008, three Poznań students founded Netguru, a software development and digital consultancy company. It grew fast to employ about 600 people in 2019.\\n', 'Stary Browar, the center of commerce and art opened in 2003, won several awards for its architecture.[37][38] Other notable shopping centers include Posnania, the biggest commerce facility in Greater Poland, Galeria Malta, and the shops at the Hotel Bazar – a historical hotel and commercial center in the Old Town.[39]\\n', 'The main Poznań railway station is called Poznań Główny, and is located just southwest of the city centre. There are also the smaller East Poznań and Poznań Garbary stations northeast of the centre, and a number of other stations on the outskirts of the city. The main east–west A2 motorway runs south of the city centre connecting it with Berlin in the west and Łódż and Warsaw in the east, serving also as a centre bypass. Other main roads run in the direction of Warsaw, Bydgoszcz, Wągrowiec, Oborniki, Katowice, Wrocław, Buk and Berlin.\\n', 'Poznań has one of the biggest airports in the west of Poland called Ławica Airport. In 2016 it handled approximately 1.71\\xa0million passengers.[41]\\n', 'Since the bend of the communist era in 1989, city investments into transportation have been mostly into public transport. While the number of cars since 1989 has at least doubled, municipal policy concentrated on improving public transport, which mostly consists of trams and both urban and suburban buses. New tram lines are planned and built, including Pestka Fast Tram sections, and the rolling stock is being replaced for modern low-floor vehicles such as trams Solaris Tramino / Combino and Moderus Gamma, and buses such as Solaris Urbino.\\n', 'Paid parking zones in the city centre were established, and Park & Ride car parks have been built to encourage commuters to leave their car on the outskirts of the city and continue their journey by public transport, as well as to allow safe and legal parking outside the city centre. Limiting car access to the strict centre actually increased the level of ridership.[citation needed]\\n', 'Poznań Główny – main railway station\\n', 'Greater Poland Railways train at the Poznań Główny\\n', 'A2 motorway before the six-lane expansion done in 2019\\n', \"Moderus Gamma tram, which is produced near Poznań, in city's eastern underground section\\n\", \"City Bike's station\\n\", 'Solaris bus; they are also produced near Poznań\\n', 'Eurocopter EC135 Lifeguard 9 waiting for an emergency dispatch at the Ławica Airport\\n', \"Poznań possesses many historic buildings and heritage sites, mostly concentrated around the Old Town and other parts of the city centre. Many of these lie on the tourist Royal-Imperial Route – a walk leading through the most important parts of the city showing its history, culture and identity. Parts of the city centre are listed as one of Poland's official national historic monuments, as designated 28 November 2008, along with other portions of the city's historic core. Its listing is maintained by the National Heritage Board of Poland.[42]\\n\", 'Apart from traditional theatres with a long history such as Teatr Wielki, Teatr Polski, Teatr Nowy, and others like Teatr Animacji, Teatr Muzyczny and Polish Dance Theatre, Poznań is also home to a growing number of different kind of alternative theatre groups. It is believed that even up to 30 more or less known groups may work in the city, and thus, the city has recently become a new Polish off-theatre performance centre.[43]\\n', 'Classical music events include the Henryk Wieniawski Violin Competition which is held every 5 years, and classical music concerts by the Poznań Philharmonic orchestra held each month in the Hall of the Adam Mickiewicz University, considered to be one of the best in terms of acoustics in Poland. Especially popular are concerts by the Poznań Nightingales.\\n', \"Every year on 11 November, city residents celebrate the Day of St. Martin. A procession of horses, with Saint Martin at its head, parades along Saint Martin Street (ulica Święty Marcin), in front of the Imperial Castle. The renowned St. Martin's Croissant, a regional product of Poznań, are widely sold during the festivities.[44]\\n\", \"An important cultural event in Poznań is the annual Malta Festival, which takes place at many city venues, usually in late June and early July. It hosts mainly modern experimental off-theatre performances often taking place on squares and other public spaces. It also includes cinema, visual, music and dancing events. Poznań also stages the Ale Kino! International Young Audience Film Festival in December, and Off Cinema festival of independent films. Other festivals: Animator (animated film festival), Ethno Port festival of traditional world's ethnic music, Maski Theater Festival, Dance International Workshops by Polish Dance Theater, Made in Chicago (jazz festival), Festival of Ice Sculpture, Science and Art Festival, Tzadik (Jewish music festival), and Meditations Biennale (modern art).\\n\", 'Poznań has several museums as well as cinemas, including multiplexes and art-house institutions. The Rozbrat social centre, a squatted former factory in Jeżyce, serves as a home for independent and open-minded culture. It hosts frequent gigs, an anarchist library, vernissages, exhibitions, annual birthday festival in October, poetry evenings and graffiti festivals. The city centre has many clubs, pubs and coffee houses.\\n', 'A popular venue is Malta, a park with an artificial lake situated in its centre. On one south bank of the lake there are ski and sleigh slopes of Malta Ski centre, and on the opposite bank a large complex of Termy Maltańskie swimming pools.\\n', \"Poznań Zoological Garden has two facilities. The Old Zoo is one of the oldest in Poland, established in 1874 just west of the city centre.[45] The large 116-hectare (290-acre) New Zoo was opened to the public in 1974, becoming second largest in Poland in terms of area. It is located on a hilly forest area with six large ponds at the eastern city's wedge of greenery, beyond the Malta lake. There is a dedicated and adored by children Maltanka mini-railway, that starts the route near the Śródka roundabout.\\n\", 'Freedom Square (Plac Wolności)\\n', 'Imperial Castle, now the Zamek Culture Centre\\n', \"Merchant houses, originally 16th century's herring stalls, at the Old Market Square\\n\", 'Bamberka fountain at the Old Market Square\\n', \"Śródka's Tale Mural in 2015\\n\", 'Stary Browar, Kufel by Wojciech Kujawski (Guinness ratified largest beer mug in the world), and Art Stations Foundation gallery in the background\\n', 'Poznań Goat mascot, Old Market Square\\n', \"Rogalin's Raczyński Palace within Rogalin Landscape Park, some 8\\xa0mi south of Poznań. Rear view\\n\", \"In 1600, approximately 20,000 inhabitants resided in the whole Poznań conurbation. By 1732 the population had dropped to 4,000 due to wars, floods and plague. Historically, its growth rate was high throughout the 19th and 20th centuries; in the year 1900 approximately 110,000 people were registered as residents and by 1939 there was already 274,155 people. The population of Poznań has declined steadily since 1990, when it reached a maximum of 590,101. This phenomenon, which also affected other European cities, is caused in part by the growth of satellite suburbs at the expense of the downtown region within the city proper. In 2020, Poznań had 532,048 registered inhabitants being the fifth most populous town in Poland, while the metropolitan area had a population of more than 1,200,000 people. The city's population density was 5,300 people\\xa0per square mile (2,000 people/km2).\\n\", \"Contemporary Poznań has one of the highest concentration of foreigners in Poland alongside Warsaw and Wrocław; a significant majority are migrant workers from Ukraine; others came from Italy, Spain, Belarus, Russia and Serbia. No exact statistic exists on the number of temporary residents from abroad. Many are students studying at Poznań's schools and institutions of higher learning.\\n\", 'Poznań is one of the four largest academic centres in Poland. The number of students in the city is about 140,000, which ranks it the third or fourth after Warsaw and Kraków and about equal to Wrocław in student population. Every one in four inhabitants of Poznań is a student. Since Poznań is smaller than Warsaw or Kraków still having a very large number of students it makes the city even more vibrant and dense academic hub than both former and current capital of Poland – Kraków and Warsaw respectively. Poznań with its almost 30 universities and colleges has the second richest educational offering in the country after Warsaw.\\n', 'The city has eight state-owned universities. Adam Mickiewicz University (AMU, UAM in Polish) is one of the most influential and biggest universities in Poland. Poznań University of Technology (PUT, PP in Polish) is one of the most influential and biggest technical universities in Poland.\\n', 'Adam Mickiewicz University is one of the three best universities in Poland after University of Warsaw and University of Kraków. They all have a very high number of international student and scientist exchange, research grants and top publications.\\nIn northern suburbs of Poznań a very large \"Morasko Campus\" has been built (Faculty of Biology, Physics, Mathematics, Chemistry, Political Sciences, Geography). The majority of faculties are already open, although a few more facilities will be constructed. The campus infrastructure belongs to the most impressive among Polish universities. Also, there are plans for \"Uniwersytecki Park Historii Ziemii\" (Earth History Park), one of the reason for the park construction is a \"Morasko meteorite nature reserve\" situated close by, it is one of the rare sites of Europe where a number of meteorites fell and some traces may be still seen.\\n', 'Poznań University of Technology was ranked fifth among all universities in Poland, and third among Polish technical universities, in the 2018 international Scimago Institutions Ranking.[46] In the 2019 Academic Ranking of World Universities, known also as the Shanghai Ranking, PUT was classified among the 500 best universities in the world in two disciplines, i.e. \"Computer Science & Engineering\" and \"Mechanical Engineering\".[47][48] PUT was ranked third among all Polish universities in the 2019–20 Ministry of Science and Higher Education popularity ranking.[49] Recent years have brought extensive development of university infrastructure at the \"Warta campus\", located on the right side of Warta river between Malta lake and Poznań city center. Location of this campus belongs to the most impressive among Polish universities.\\n', 'There is also a great number of smaller, mostly private-run colleges and institutions of higher education, including SWPS University of Social Sciences and Humanities, Collegium Da Vinci, and WSB University.[50]\\n', 'Poznań has numerous high schools, which have different programmes focusing on different subjects. Some of the most notable are:\\n', \"There are several multi-sport clubs in Poznań. Warta Poznań was one of the most successful clubs in pre-World War II history, and Lech Poznań football team frequently plays in European cups. Lech plays at the Municipal Stadium, which hosted the 2012 European Championship group stages as well as the opening game and the final of the 2006 under-19 Euro Championship. Warta usually plays at the small Dębińska Road Stadium, a former training ground for Edmund Szyc Stadium, however, since the latter fell into disrepair in 1998 and was sold in 2001, it became the team's main ground. The club was planning to rebuild Szyc Stadium with historical 60,000-seat capacity.[51] In 2019/2020 season, Warta played their I liga matches at the stadium in Grodzisk Wielkopolski, as Dębińska Road Stadium did not fulfill the requirements of the I liga's authorities.[52]\\n\", \"The city's third professional football team of multi-sport Olimpia Poznań club ceased activity in 2004, and the club focused on other sports, achieving good results in judo and tennis. Olimpia is hosting the annual tennis Poznań Open tournament at its Olimpia Tennis Park. The club owns a large sports complex near Rusałka lake, and apart from the tennis facilities boasts a large city recreation areas: mountain biking facilities with a four-cross track, an athletics stadium with 3,000 capacity, and a football-speedway stadium with 20,000 capacity. The latter had fallen into vast disrepair until it was acquired by the City Council from the Police in 2013 and was renovated. The football-speedway stadium hosts speedway club PSŻ Poznań, rugby union side NKR Chaos, American football team the Armia Poznań,[53] and football team Poznaniak Poznań.\\n\", 'The artificial Malta lake, which was formed in 1952 and is about 2.2\\xa0km (1.4\\xa0mi) long, hosted the 2009 World Rowing Championships and some regattas of the World Rowing Cup. It also held the ICF Canoe Sprint World Championships in 1990, 2001, and 2010.\\n', 'Termy Maltańskie, big water sports and recreation complex featuring Olympic-size swimming pool, is located at the north bank of the lake. A 50-metre pool can be divided into two 25-metre pools. The other pool with a diving tower also fulfils all requirements necessary for organizing sports competitions. Termy Maltańskie consists of as many as 18 sports and recreational swimming pools with a total water surface area of 5,000\\xa0m2 (54,000\\xa0sq\\xa0ft) as well as many other attractions such as different kind of saunas and spa, among others. The complex uses natural geothermal waters drawn nearby from a depth of 1,306 metres (4,285\\xa0ft) and saturated with beneficial minerals and elements, for some of the swimming pools.\\n', 'At the south bank of the lake, Malta-Ski year-round skiing complex is situated, and is hosting minor sport competitions, equipped with a toboggan run and a minigolf course. There is also a roller rink with a roller skating club nearby.\\n', 'Since 2000, the city has been the host of the Poznań Marathon, one of the largest such races in the country.\\n', \"Poznań's indoor sporting arena is simply called Arena. Located west of city centre and built in 1974, it originally seated about 5,500 people and is used for many different indoor sports and cultural events such as volleyball and concerts, among others. The facility has since been modernized, including lowering the level of the ground floor to increase arena capacity to about 9,200. Poznań has experience as a host for international sporting events such as the 2009 EuroBasket.[54]\\n\", \"The city has the largest motorsport race track in Poland, Tor Poznań, located at the west city's suburbs in Przeźmierowo.\\n\", \"Poznań is also considered to be the hotbed of Polish field hockey, with several top teams of Warta Poznań, Grunwald Poznań – multi-sport club which also has shooting, wrestling, handball and tennis sections, Pocztowiec Poznań, and AZS AWF Poznań – an academic club which also fields professional teams in women's volleyball and basketball. Other clubs include: Posnania Poznań – one of the best rugby union teams in the country, Polonia Poznań – formerly a multi-sport club achieving many successes in rugby with only a football section remaining, KKS Wiara Lecha – football club formed by the supporters of Lech Poznań, and Odlew Poznań – arguably the most famous amateur club in the country due to their extensive media coverage and humorous exploits. There are also numerous rhythmic gymnastics and synchronised swimming clubs, as well as numerous less notable amateur football teams.\\n\", 'The E11 European long distance path for hikers passes through Poznań.\\n', \"Poznań bid for the 2014 Summer Youth Olympics but lost to Nanjing, with the Chinese city receiving 47 votes over Poznań's 42.\\n\", 'Poznań is twinned with:[55][56]\\n']\n"
     ]
    }
   ],
   "source": [
    "from bs4 import BeautifulSoup\n",
    "import requests\n",
    "\n",
    "respond = requests.get(\"https://en.wikipedia.org/wiki/Poznań\")\n",
    "soup = BeautifulSoup(respond.text, \"lxml\")\n",
    "page = soup.find_all('p')\n",
    "\n",
    "raw_text = [paragraph.text for paragraph in page]\n",
    "\n",
    "print(raw_text)"
   ]
  },
  {
   "cell_type": "markdown",
   "metadata": {},
   "source": [
    "Next, we will split the text into paragraphs and remove the lines with less than 3 words."
   ]
  },
  {
   "cell_type": "code",
   "execution_count": 3,
   "metadata": {
    "ExecuteTime": {
     "end_time": "2020-04-02T18:56:38.222335Z",
     "start_time": "2020-04-02T18:56:38.213039Z"
    }
   },
   "outputs": [
    {
     "name": "stdout",
     "output_type": "stream",
     "text": [
      "['Poznań', '(Polish:', '[ˈpɔznaɲ]', '(listen))[a]', 'is', 'a', 'city', 'on', 'the', 'River', 'Warta', 'in', 'west-central', 'Poland,', 'within', 'the', 'Greater', 'Poland', 'region.', 'The', 'city', 'is', 'an', 'important', 'cultural', 'and', 'business', 'centre,', 'and', 'one', 'of', \"Poland's\", 'most', 'populous', 'regions', 'with', 'many', 'regional', 'customs', 'such', 'as', 'Saint', \"John's\", 'Fair', '(Jarmark', 'Świętojański),', 'traditional', 'Saint', \"Martin's\", 'croissants', 'and', 'a', 'local', 'dialect.', 'Among', 'its', 'most', 'important', 'heritage', 'sites', 'are', 'the', 'Renaissance', 'Old', 'Town,', 'Town', 'Hall', 'and', 'Gothic', 'Cathedral.']\n",
      "['Poznań', 'is', 'the', 'fifth-largest', 'and', 'one', 'of', 'the', 'oldest', 'cities', 'in', 'Poland.', 'As', 'of', '2021,', 'the', \"city's\", 'population', 'is', '529,410,', 'while', 'the', 'Poznań', 'metropolitan', 'area', '(Metropolia', 'Poznań)', 'comprising', 'Poznań', 'County', 'and', 'several', 'other', 'communities', 'is', 'inhabited', 'by', 'over', '1.1', 'million', 'people.[2]', 'It', 'is', 'one', 'of', 'four', 'historical', 'capitals', 'of', 'medieval', 'Poland', 'and', 'the', 'ancient', 'capital', 'of', 'the', 'Greater', 'Poland', 'region,', 'currently', 'the', 'administrative', 'capital', 'of', 'the', 'province', 'called', 'Greater', 'Poland', 'Voivodeship.']\n",
      "['Poznań', 'is', 'a', 'center', 'of', 'trade,', 'sports,', 'education,', 'technology', 'and', 'tourism.', 'It', 'is', 'an', 'important', 'academic', 'site,', 'with', 'about', '130,000', 'students', 'and', 'Adam', 'Mickiewicz', 'University,', 'the', 'third', 'largest', 'Polish', 'university.', 'The', 'city', 'serves', 'as', 'the', 'seat', 'of', 'the', 'oldest', 'Polish', 'diocese,', 'now', 'being', 'one', 'of', 'the', 'most', 'populous', 'Catholic', 'archdioceses', 'in', 'the', 'country.', 'The', 'city', 'also', 'hosts', 'the', 'Poznań', 'International', 'Fair', '–', 'the', 'biggest', 'industrial', 'fair', 'in', 'Poland', 'and', 'one', 'of', 'the', 'largest', 'fairs', 'in', 'Europe.', 'The', \"city's\", 'other', 'renowned', 'landmarks', 'include', 'the', 'National', 'Museum,', 'Grand', 'Theatre,', 'Fara', 'Church', 'and', 'the', 'Imperial', 'Castle.']\n",
      "['Poznań', 'is', 'classified', 'as', 'a', 'Gamma−', 'global', 'city', 'by', 'Globalization', 'and', 'World', 'Cities', 'Research', 'Network.[4]', 'According', 'to', 'several', 'rankings', 'it', 'is', 'one', 'of', 'the', 'most', 'business-friendly', 'cities', 'in', 'Poland.[5]', 'It', 'also', 'ranks', 'highly', 'in', 'safety', 'and', 'healthcare', 'quality.[6]', 'The', 'city', 'of', 'Poznań', 'has', 'also,', 'many', 'times,', 'won', 'the', 'prize', 'awarded', 'by', '\"Superbrands\"', 'for', 'a', 'very', 'high', 'quality', 'city', 'brand.', 'In', '2012,', 'the', \"Poznań's\", 'Art', 'and', 'Business', 'Center', '\"Stary', 'Browar\"', 'won', 'a', 'competition', 'organised', 'by', 'National', 'Geographic', 'Traveler', 'and', 'was', 'given', 'the', 'first', 'prize', 'as', 'one', 'of', 'the', 'seven', '\"New', 'Polish', 'Wonders\".', 'Companies', 'headquartered', 'in', 'the', 'city', 'include', 'energy', 'provider', 'Enea', 'and', 'e-commerce', 'company', 'Allegro.']\n",
      "['The', 'official', 'patron', 'saints', 'of', 'Poznań', 'are', 'Saint', 'Peter', 'and', 'Paul', 'of', 'Tarsus,', 'the', 'patrons', 'of', 'the', 'cathedral.', 'Martin', 'of', 'Tours', '–', 'the', 'patron', 'of', 'the', 'main', 'street', 'Święty', 'Marcin', '–', 'is', 'also', 'regarded', 'as', 'one', 'of', 'the', 'patron', 'saints', 'of', 'the', 'city.']\n",
      "['The', 'name', 'Poznań', 'probably', 'comes', 'from', 'a', 'personal', 'name', 'Poznan,', 'which', 'was', 'in', 'turn', 'derived', 'from', 'the', 'Polish', 'participle', 'poznan(y)', '–', '\"one', 'who', 'is', 'known/recognized\",', 'and', 'would', 'mean', '\"Poznan\\'s', 'town\".', 'It', 'is', 'also', 'possible', 'that', 'the', 'name', 'comes', 'directly', 'from', 'the', 'verb', 'poznać,', 'which', 'means', '\"to', 'get', 'to', 'know\"', 'or', '\"to', 'recognize\",', 'so', 'it', 'may', 'simply', 'mean', '\"known', 'town\".']\n",
      "['The', 'earliest', 'surviving', 'references', 'to', 'the', 'city', 'are', 'found', 'in', 'the', 'chronicles', 'of', 'Thietmar', 'of', 'Merseburg', 'written', 'between', '1012', 'and', '1018:', 'episcopus', 'Posnaniensis', '(\"bishop', 'of', 'Poznań\",', 'in', 'an', 'entry', 'for', '970)', 'and', 'ab', 'urbe', 'Posnani', '(\"from', 'the', 'city', 'of', 'Poznań\",', 'for', '1005).', 'The', \"city's\", 'name', 'appears', 'in', 'documents', 'in', 'the', 'Latin', 'nominative', 'case', 'as', 'Posnania', 'in', '1236', 'and', 'Poznania', 'in', '1247.', 'The', 'phrase', 'in', 'Poznan', 'appears', 'in', '1146', 'and', '1244.']\n",
      "['The', \"city's\", 'full', 'official', 'name', 'is', 'Stołeczne', 'Miasto', 'Poznań', '(The', 'Capital', 'City', 'of', 'Poznań),', 'in', 'reference', 'to', 'its', 'role', 'as', 'a', 'centre', 'of', 'political', 'power', 'in', 'the', 'early', 'Polish', 'state', 'under', 'the', 'Piast', 'dynasty.', 'Poznań', 'is', 'known', 'as', 'Posen', 'in', 'German,', 'and', 'was', 'officially', 'called', 'Haupt-', 'und', 'Residenzstadt', 'Posen', '(Capital', 'and', 'Residence', 'City', 'of', 'Poznań)', 'between', '20', 'August', '1910', 'and', '28', 'November', '1918.', 'The', 'Latin', 'names', 'of', 'the', 'city', 'are', 'Posnania', 'and', 'Civitas', 'Posnaniensis.', 'Its', 'Yiddish', 'name', 'is', 'פּױזן,', 'or', 'Poyzn.']\n",
      "['In', 'Polish,', 'the', \"city's\", 'name', 'has', 'masculine', 'grammatical', 'gender.']\n",
      "['For', 'centuries', 'before', 'the', 'Christianization', 'of', 'Poland', '(an', 'event', 'that', 'essentially', 'is', 'credited', 'as', 'the', 'creation', 'of', 'the', 'very', 'first', 'Polish', 'state,', 'the', 'Duchy', 'of', 'Poland),', 'Poznań', 'was', 'an', 'important', 'cultural', 'and', 'political', 'centre', 'of', 'the', 'Western', 'Polans.', 'It', 'consisted', 'of', 'a', 'fortified', 'stronghold', 'between', 'the', 'Warta', 'and', 'Cybina', 'rivers', 'on', 'what', 'is', 'now', 'Ostrów', 'Tumski.', 'Mieszko', 'I,', 'the', 'first', 'historically', 'recorded', 'ruler', 'of', 'the', 'West', 'Polans', 'and', 'of', 'the', 'early', 'Polish', 'state', 'which', 'they', 'dominated,', 'built', 'one', 'of', 'his', 'main', 'stable', 'headquarters', 'in', 'Poznań.', \"Mieszko's\", 'baptism', 'in', 'AD', '966,', 'seen', 'as', 'a', 'defining', 'moment', 'in', 'the', 'Christianization', 'of', 'the', 'Polish', 'state,', 'may', 'have', 'taken', 'place', 'in', 'Poznań.[7]']\n"
     ]
    }
   ],
   "source": [
    "text = [ line.split() for line in raw_text if len(line) > 2 ]\n",
    "\n",
    "for line in text[:10]:\n",
    "    print(line)"
   ]
  },
  {
   "cell_type": "markdown",
   "metadata": {},
   "source": [
    "Our text still contains a lot of stop-words and some additional tokens such as 1.2, [2], etc. We will use the `nltk` library to remove the stop-words and we'll transform everything to alpha tokens."
   ]
  },
  {
   "cell_type": "code",
   "execution_count": 5,
   "metadata": {
    "ExecuteTime": {
     "end_time": "2020-04-02T18:57:16.043403Z",
     "start_time": "2020-04-02T18:57:14.788257Z"
    }
   },
   "outputs": [
    {
     "name": "stderr",
     "output_type": "stream",
     "text": [
      "[nltk_data] Downloading package stopwords to\n",
      "[nltk_data]     C:\\Users\\Mateusz\\AppData\\Roaming\\nltk_data...\n",
      "[nltk_data]   Unzipping corpora\\stopwords.zip.\n"
     ]
    },
    {
     "data": {
      "text/plain": [
       "True"
      ]
     },
     "execution_count": 5,
     "metadata": {},
     "output_type": "execute_result"
    }
   ],
   "source": [
    "import nltk\n",
    "\n",
    "nltk.download('stopwords')"
   ]
  },
  {
   "cell_type": "code",
   "execution_count": 6,
   "metadata": {
    "ExecuteTime": {
     "end_time": "2020-04-02T18:57:44.436759Z",
     "start_time": "2020-04-02T18:57:44.427571Z"
    }
   },
   "outputs": [
    {
     "data": {
      "text/plain": [
       "['i', 'me', 'my', 'myself', 'we', 'our', 'ours', 'ourselves', 'you', \"you're\"]"
      ]
     },
     "execution_count": 6,
     "metadata": {},
     "output_type": "execute_result"
    }
   ],
   "source": [
    "from nltk.corpus import stopwords\n",
    "\n",
    "stopwords.words('english')[:10]"
   ]
  },
  {
   "cell_type": "code",
   "execution_count": 7,
   "metadata": {
    "ExecuteTime": {
     "end_time": "2020-04-02T18:57:54.876920Z",
     "start_time": "2020-04-02T18:57:54.215332Z"
    }
   },
   "outputs": [
    {
     "name": "stdout",
     "output_type": "stream",
     "text": [
      "['poznań', 'city', 'river', 'warta', 'within', 'greater', 'poland', 'city', 'important', 'cultural', 'business', 'one', 'populous', 'regions', 'many', 'regional', 'customs', 'saint', 'fair', 'traditional', 'saint', 'croissants', 'local', 'among', 'important', 'heritage', 'sites', 'renaissance', 'old', 'town', 'hall', 'gothic']\n",
      "['poznań', 'one', 'oldest', 'cities', 'population', 'poznań', 'metropolitan', 'area', 'comprising', 'poznań', 'county', 'several', 'communities', 'inhabited', 'million', 'one', 'four', 'historical', 'capitals', 'medieval', 'poland', 'ancient', 'capital', 'greater', 'poland', 'currently', 'administrative', 'capital', 'province', 'called', 'greater', 'poland']\n",
      "['poznań', 'center', 'technology', 'important', 'academic', 'students', 'adam', 'mickiewicz', 'third', 'largest', 'polish', 'city', 'serves', 'seat', 'oldest', 'polish', 'one', 'populous', 'catholic', 'archdioceses', 'city', 'also', 'hosts', 'poznań', 'international', 'fair', 'biggest', 'industrial', 'fair', 'poland', 'one', 'largest', 'fairs', 'renowned', 'landmarks', 'include', 'national', 'grand', 'fara', 'church', 'imperial']\n",
      "['poznań', 'classified', 'global', 'city', 'globalization', 'world', 'cities', 'research', 'according', 'several', 'rankings', 'one', 'cities', 'also', 'ranks', 'highly', 'safety', 'healthcare', 'city', 'poznań', 'many', 'prize', 'awarded', 'high', 'quality', 'city', 'art', 'business', 'center', 'competition', 'organised', 'national', 'geographic', 'traveler', 'given', 'first', 'prize', 'one', 'seven', 'polish', 'companies', 'headquartered', 'city', 'include', 'energy', 'provider', 'enea', 'company']\n",
      "['official', 'patron', 'saints', 'poznań', 'saint', 'peter', 'paul', 'patrons', 'martin', 'tours', 'patron', 'main', 'street', 'święty', 'marcin', 'also', 'regarded', 'one', 'patron', 'saints']\n",
      "['name', 'poznań', 'probably', 'comes', 'personal', 'name', 'turn', 'derived', 'polish', 'participle', 'would', 'mean', 'also', 'possible', 'name', 'comes', 'directly', 'verb', 'means', 'get', 'may', 'simply', 'mean']\n",
      "['earliest', 'surviving', 'references', 'city', 'found', 'chronicles', 'thietmar', 'merseburg', 'written', 'episcopus', 'posnaniensis', 'entry', 'ab', 'urbe', 'posnani', 'city', 'name', 'appears', 'documents', 'latin', 'nominative', 'case', 'posnania', 'poznania', 'phrase', 'poznan', 'appears']\n",
      "['full', 'official', 'name', 'stołeczne', 'miasto', 'poznań', 'capital', 'city', 'reference', 'role', 'centre', 'political', 'power', 'early', 'polish', 'state', 'piast', 'poznań', 'known', 'posen', 'officially', 'called', 'und', 'residenzstadt', 'posen', 'residence', 'city', 'august', 'november', 'latin', 'names', 'city', 'posnania', 'civitas', 'yiddish', 'name']\n",
      "['name', 'masculine', 'grammatical']\n",
      "['centuries', 'christianization', 'poland', 'event', 'essentially', 'credited', 'creation', 'first', 'polish', 'duchy', 'poznań', 'important', 'cultural', 'political', 'centre', 'western', 'consisted', 'fortified', 'stronghold', 'warta', 'cybina', 'rivers', 'ostrów', 'mieszko', 'first', 'historically', 'recorded', 'ruler', 'west', 'polans', 'early', 'polish', 'state', 'built', 'one', 'main', 'stable', 'headquarters', 'baptism', 'ad', 'seen', 'defining', 'moment', 'christianization', 'polish', 'may', 'taken', 'place']\n"
     ]
    }
   ],
   "source": [
    "clean_text = [\n",
    "    [ \n",
    "        word.lower() \n",
    "        for word \n",
    "        in line \n",
    "        if word.isalpha() \n",
    "        and word.lower() not in stopwords.words('english') \n",
    "    ]\n",
    "    for line \n",
    "    in text\n",
    "]\n",
    "\n",
    "for line in clean_text[:10]:\n",
    "    print(line)"
   ]
  },
  {
   "cell_type": "markdown",
   "metadata": {},
   "source": [
    "Now we are ready to transform the list of lists into the format suitable for association rule mining, i.e., to transform the input lists into boolean flags."
   ]
  },
  {
   "cell_type": "code",
   "execution_count": 8,
   "metadata": {
    "ExecuteTime": {
     "end_time": "2020-04-02T18:58:24.848937Z",
     "start_time": "2020-04-02T18:58:24.492037Z"
    }
   },
   "outputs": [],
   "source": [
    "import pandas as pd\n",
    "from mlxtend.preprocessing import TransactionEncoder\n",
    "from mlxtend.frequent_patterns import apriori\n",
    "\n",
    "te = TransactionEncoder()\n",
    "te_array = te.fit(clean_text).transform(clean_text)"
   ]
  },
  {
   "cell_type": "code",
   "execution_count": 9,
   "metadata": {
    "ExecuteTime": {
     "end_time": "2020-04-02T18:58:25.836952Z",
     "start_time": "2020-04-02T18:58:25.831020Z"
    }
   },
   "outputs": [
    {
     "data": {
      "text/plain": [
       "array([[False, False, False, ..., False, False, False],\n",
       "       [False, False, False, ..., False, False, False],\n",
       "       [False,  True, False, ..., False, False, False],\n",
       "       ...,\n",
       "       [False, False, False, ..., False, False, False],\n",
       "       [False, False, False, ..., False, False, False],\n",
       "       [False, False, False, ..., False, False, False]])"
      ]
     },
     "execution_count": 9,
     "metadata": {},
     "output_type": "execute_result"
    }
   ],
   "source": [
    "# te_array contains binary version of the input data\n",
    "\n",
    "te_array"
   ]
  },
  {
   "cell_type": "code",
   "execution_count": 10,
   "metadata": {
    "ExecuteTime": {
     "end_time": "2020-04-02T18:58:32.582394Z",
     "start_time": "2020-04-02T18:58:32.579232Z"
    }
   },
   "outputs": [
    {
     "data": {
      "text/plain": [
       "(92, 1343)"
      ]
     },
     "execution_count": 10,
     "metadata": {},
     "output_type": "execute_result"
    }
   ],
   "source": [
    "te_array.shape"
   ]
  },
  {
   "cell_type": "code",
   "execution_count": 11,
   "metadata": {
    "ExecuteTime": {
     "end_time": "2020-04-02T18:58:57.467940Z",
     "start_time": "2020-04-02T18:58:57.436211Z"
    }
   },
   "outputs": [
    {
     "data": {
      "text/plain": [
       "['ab',\n",
       " 'academic',\n",
       " 'academy',\n",
       " 'access',\n",
       " 'according',\n",
       " 'accounted',\n",
       " 'achieving',\n",
       " 'acoustics',\n",
       " 'acquire',\n",
       " 'acquired']"
      ]
     },
     "execution_count": 11,
     "metadata": {},
     "output_type": "execute_result"
    }
   ],
   "source": [
    "# original tokens are preserved in the columns_ field\n",
    "\n",
    "te.columns_[:10]"
   ]
  },
  {
   "cell_type": "markdown",
   "metadata": {},
   "source": [
    "`mlxtend` package assumes that the input data are stored as a `pandas.DataFrame`"
   ]
  },
  {
   "cell_type": "code",
   "execution_count": 12,
   "metadata": {
    "ExecuteTime": {
     "end_time": "2020-04-02T18:59:30.197845Z",
     "start_time": "2020-04-02T18:59:30.156071Z"
    }
   },
   "outputs": [
    {
     "data": {
      "text/html": [
       "<div>\n",
       "<style scoped>\n",
       "    .dataframe tbody tr th:only-of-type {\n",
       "        vertical-align: middle;\n",
       "    }\n",
       "\n",
       "    .dataframe tbody tr th {\n",
       "        vertical-align: top;\n",
       "    }\n",
       "\n",
       "    .dataframe thead th {\n",
       "        text-align: right;\n",
       "    }\n",
       "</style>\n",
       "<table border=\"1\" class=\"dataframe\">\n",
       "  <thead>\n",
       "    <tr style=\"text-align: right;\">\n",
       "      <th></th>\n",
       "      <th>ab</th>\n",
       "      <th>academic</th>\n",
       "      <th>academy</th>\n",
       "      <th>access</th>\n",
       "      <th>according</th>\n",
       "      <th>accounted</th>\n",
       "      <th>achieving</th>\n",
       "      <th>acoustics</th>\n",
       "      <th>acquire</th>\n",
       "      <th>acquired</th>\n",
       "      <th>...</th>\n",
       "      <th>zones</th>\n",
       "      <th>zoo</th>\n",
       "      <th>zoological</th>\n",
       "      <th>łacina</th>\n",
       "      <th>ławica</th>\n",
       "      <th>łazarz</th>\n",
       "      <th>łódż</th>\n",
       "      <th>śródka</th>\n",
       "      <th>święty</th>\n",
       "      <th>żabikowo</th>\n",
       "    </tr>\n",
       "  </thead>\n",
       "  <tbody>\n",
       "    <tr>\n",
       "      <th>0</th>\n",
       "      <td>False</td>\n",
       "      <td>False</td>\n",
       "      <td>False</td>\n",
       "      <td>False</td>\n",
       "      <td>False</td>\n",
       "      <td>False</td>\n",
       "      <td>False</td>\n",
       "      <td>False</td>\n",
       "      <td>False</td>\n",
       "      <td>False</td>\n",
       "      <td>...</td>\n",
       "      <td>False</td>\n",
       "      <td>False</td>\n",
       "      <td>False</td>\n",
       "      <td>False</td>\n",
       "      <td>False</td>\n",
       "      <td>False</td>\n",
       "      <td>False</td>\n",
       "      <td>False</td>\n",
       "      <td>False</td>\n",
       "      <td>False</td>\n",
       "    </tr>\n",
       "    <tr>\n",
       "      <th>1</th>\n",
       "      <td>False</td>\n",
       "      <td>False</td>\n",
       "      <td>False</td>\n",
       "      <td>False</td>\n",
       "      <td>False</td>\n",
       "      <td>False</td>\n",
       "      <td>False</td>\n",
       "      <td>False</td>\n",
       "      <td>False</td>\n",
       "      <td>False</td>\n",
       "      <td>...</td>\n",
       "      <td>False</td>\n",
       "      <td>False</td>\n",
       "      <td>False</td>\n",
       "      <td>False</td>\n",
       "      <td>False</td>\n",
       "      <td>False</td>\n",
       "      <td>False</td>\n",
       "      <td>False</td>\n",
       "      <td>False</td>\n",
       "      <td>False</td>\n",
       "    </tr>\n",
       "    <tr>\n",
       "      <th>2</th>\n",
       "      <td>False</td>\n",
       "      <td>True</td>\n",
       "      <td>False</td>\n",
       "      <td>False</td>\n",
       "      <td>False</td>\n",
       "      <td>False</td>\n",
       "      <td>False</td>\n",
       "      <td>False</td>\n",
       "      <td>False</td>\n",
       "      <td>False</td>\n",
       "      <td>...</td>\n",
       "      <td>False</td>\n",
       "      <td>False</td>\n",
       "      <td>False</td>\n",
       "      <td>False</td>\n",
       "      <td>False</td>\n",
       "      <td>False</td>\n",
       "      <td>False</td>\n",
       "      <td>False</td>\n",
       "      <td>False</td>\n",
       "      <td>False</td>\n",
       "    </tr>\n",
       "    <tr>\n",
       "      <th>3</th>\n",
       "      <td>False</td>\n",
       "      <td>False</td>\n",
       "      <td>False</td>\n",
       "      <td>False</td>\n",
       "      <td>True</td>\n",
       "      <td>False</td>\n",
       "      <td>False</td>\n",
       "      <td>False</td>\n",
       "      <td>False</td>\n",
       "      <td>False</td>\n",
       "      <td>...</td>\n",
       "      <td>False</td>\n",
       "      <td>False</td>\n",
       "      <td>False</td>\n",
       "      <td>False</td>\n",
       "      <td>False</td>\n",
       "      <td>False</td>\n",
       "      <td>False</td>\n",
       "      <td>False</td>\n",
       "      <td>False</td>\n",
       "      <td>False</td>\n",
       "    </tr>\n",
       "    <tr>\n",
       "      <th>4</th>\n",
       "      <td>False</td>\n",
       "      <td>False</td>\n",
       "      <td>False</td>\n",
       "      <td>False</td>\n",
       "      <td>False</td>\n",
       "      <td>False</td>\n",
       "      <td>False</td>\n",
       "      <td>False</td>\n",
       "      <td>False</td>\n",
       "      <td>False</td>\n",
       "      <td>...</td>\n",
       "      <td>False</td>\n",
       "      <td>False</td>\n",
       "      <td>False</td>\n",
       "      <td>False</td>\n",
       "      <td>False</td>\n",
       "      <td>False</td>\n",
       "      <td>False</td>\n",
       "      <td>False</td>\n",
       "      <td>True</td>\n",
       "      <td>False</td>\n",
       "    </tr>\n",
       "  </tbody>\n",
       "</table>\n",
       "<p>5 rows × 1343 columns</p>\n",
       "</div>"
      ],
      "text/plain": [
       "      ab  academic  academy  access  according  accounted  achieving  \\\n",
       "0  False     False    False   False      False      False      False   \n",
       "1  False     False    False   False      False      False      False   \n",
       "2  False      True    False   False      False      False      False   \n",
       "3  False     False    False   False       True      False      False   \n",
       "4  False     False    False   False      False      False      False   \n",
       "\n",
       "   acoustics  acquire  acquired  ...  zones    zoo  zoological  łacina  \\\n",
       "0      False    False     False  ...  False  False       False   False   \n",
       "1      False    False     False  ...  False  False       False   False   \n",
       "2      False    False     False  ...  False  False       False   False   \n",
       "3      False    False     False  ...  False  False       False   False   \n",
       "4      False    False     False  ...  False  False       False   False   \n",
       "\n",
       "   ławica  łazarz   łódż  śródka  święty  żabikowo  \n",
       "0   False   False  False   False   False     False  \n",
       "1   False   False  False   False   False     False  \n",
       "2   False   False  False   False   False     False  \n",
       "3   False   False  False   False   False     False  \n",
       "4   False   False  False   False    True     False  \n",
       "\n",
       "[5 rows x 1343 columns]"
      ]
     },
     "execution_count": 12,
     "metadata": {},
     "output_type": "execute_result"
    }
   ],
   "source": [
    "df = pd.DataFrame(te_array, columns=te.columns_)\n",
    "\n",
    "df.head()"
   ]
  },
  {
   "cell_type": "markdown",
   "metadata": {},
   "source": [
    "Now we are ready to find frequent collections of words."
   ]
  },
  {
   "cell_type": "code",
   "execution_count": 13,
   "metadata": {
    "ExecuteTime": {
     "end_time": "2020-04-02T19:00:10.733035Z",
     "start_time": "2020-04-02T19:00:10.696528Z"
    }
   },
   "outputs": [
    {
     "data": {
      "text/html": [
       "<div>\n",
       "<style scoped>\n",
       "    .dataframe tbody tr th:only-of-type {\n",
       "        vertical-align: middle;\n",
       "    }\n",
       "\n",
       "    .dataframe tbody tr th {\n",
       "        vertical-align: top;\n",
       "    }\n",
       "\n",
       "    .dataframe thead th {\n",
       "        text-align: right;\n",
       "    }\n",
       "</style>\n",
       "<table border=\"1\" class=\"dataframe\">\n",
       "  <thead>\n",
       "    <tr style=\"text-align: right;\">\n",
       "      <th></th>\n",
       "      <th>support</th>\n",
       "      <th>itemsets</th>\n",
       "    </tr>\n",
       "  </thead>\n",
       "  <tbody>\n",
       "    <tr>\n",
       "      <th>0</th>\n",
       "      <td>0.054348</td>\n",
       "      <td>(adam)</td>\n",
       "    </tr>\n",
       "    <tr>\n",
       "      <th>1</th>\n",
       "      <td>0.271739</td>\n",
       "      <td>(also)</td>\n",
       "    </tr>\n",
       "    <tr>\n",
       "      <th>2</th>\n",
       "      <td>0.065217</td>\n",
       "      <td>(although)</td>\n",
       "    </tr>\n",
       "    <tr>\n",
       "      <th>3</th>\n",
       "      <td>0.086957</td>\n",
       "      <td>(among)</td>\n",
       "    </tr>\n",
       "    <tr>\n",
       "      <th>4</th>\n",
       "      <td>0.119565</td>\n",
       "      <td>(area)</td>\n",
       "    </tr>\n",
       "    <tr>\n",
       "      <th>...</th>\n",
       "      <td>...</td>\n",
       "      <td>...</td>\n",
       "    </tr>\n",
       "    <tr>\n",
       "      <th>234</th>\n",
       "      <td>0.076087</td>\n",
       "      <td>(polish, city, also, poznań)</td>\n",
       "    </tr>\n",
       "    <tr>\n",
       "      <th>235</th>\n",
       "      <td>0.054348</td>\n",
       "      <td>(polish, many, poznań, also)</td>\n",
       "    </tr>\n",
       "    <tr>\n",
       "      <th>236</th>\n",
       "      <td>0.054348</td>\n",
       "      <td>(poland, city, poznań, capital)</td>\n",
       "    </tr>\n",
       "    <tr>\n",
       "      <th>237</th>\n",
       "      <td>0.065217</td>\n",
       "      <td>(capital, poznań, greater, poland)</td>\n",
       "    </tr>\n",
       "    <tr>\n",
       "      <th>238</th>\n",
       "      <td>0.054348</td>\n",
       "      <td>(poland, poznań, one, city)</td>\n",
       "    </tr>\n",
       "  </tbody>\n",
       "</table>\n",
       "<p>239 rows × 2 columns</p>\n",
       "</div>"
      ],
      "text/plain": [
       "      support                            itemsets\n",
       "0    0.054348                              (adam)\n",
       "1    0.271739                              (also)\n",
       "2    0.065217                          (although)\n",
       "3    0.086957                             (among)\n",
       "4    0.119565                              (area)\n",
       "..        ...                                 ...\n",
       "234  0.076087        (polish, city, also, poznań)\n",
       "235  0.054348        (polish, many, poznań, also)\n",
       "236  0.054348     (poland, city, poznań, capital)\n",
       "237  0.065217  (capital, poznań, greater, poland)\n",
       "238  0.054348         (poland, poznań, one, city)\n",
       "\n",
       "[239 rows x 2 columns]"
      ]
     },
     "execution_count": 13,
     "metadata": {},
     "output_type": "execute_result"
    }
   ],
   "source": [
    "frequent_itemsets = apriori(df, min_support=0.05, use_colnames=True)\n",
    "\n",
    "frequent_itemsets"
   ]
  },
  {
   "cell_type": "markdown",
   "metadata": {},
   "source": [
    "We can also mine association rules which will have additional measures of quality and interestingness"
   ]
  },
  {
   "cell_type": "code",
   "execution_count": 14,
   "metadata": {
    "ExecuteTime": {
     "end_time": "2020-04-02T19:00:39.718960Z",
     "start_time": "2020-04-02T19:00:39.587805Z"
    }
   },
   "outputs": [
    {
     "name": "stdout",
     "output_type": "stream",
     "text": [
      "\u001b[1;31mSignature:\u001b[0m\n",
      "\u001b[0massociation_rules\u001b[0m\u001b[1;33m(\u001b[0m\u001b[1;33m\n",
      "\u001b[0m    \u001b[0mdf\u001b[0m\u001b[1;33m,\u001b[0m\u001b[1;33m\n",
      "\u001b[0m    \u001b[0mmetric\u001b[0m\u001b[1;33m=\u001b[0m\u001b[1;34m'confidence'\u001b[0m\u001b[1;33m,\u001b[0m\u001b[1;33m\n",
      "\u001b[0m    \u001b[0mmin_threshold\u001b[0m\u001b[1;33m=\u001b[0m\u001b[1;36m0.8\u001b[0m\u001b[1;33m,\u001b[0m\u001b[1;33m\n",
      "\u001b[0m    \u001b[0msupport_only\u001b[0m\u001b[1;33m=\u001b[0m\u001b[1;32mFalse\u001b[0m\u001b[1;33m,\u001b[0m\u001b[1;33m\n",
      "\u001b[0m\u001b[1;33m)\u001b[0m\u001b[1;33m\u001b[0m\u001b[1;33m\u001b[0m\u001b[0m\n",
      "\u001b[1;31mDocstring:\u001b[0m\n",
      "Generates a DataFrame of association rules including the\n",
      "metrics 'score', 'confidence', and 'lift'\n",
      "\n",
      "Parameters\n",
      "-----------\n",
      "df : pandas DataFrame\n",
      "  pandas DataFrame of frequent itemsets\n",
      "  with columns ['support', 'itemsets']\n",
      "\n",
      "metric : string (default: 'confidence')\n",
      "  Metric to evaluate if a rule is of interest.\n",
      "  **Automatically set to 'support' if `support_only=True`.**\n",
      "  Otherwise, supported metrics are 'support', 'confidence', 'lift',\n",
      "  'leverage', 'conviction' and 'zhangs_metric'\n",
      "  These metrics are computed as follows:\n",
      "\n",
      "  - support(A->C) = support(A+C) [aka 'support'], range: [0, 1]\n",
      "\n",
      "  - confidence(A->C) = support(A+C) / support(A), range: [0, 1]\n",
      "\n",
      "  - lift(A->C) = confidence(A->C) / support(C), range: [0, inf]\n",
      "\n",
      "  - leverage(A->C) = support(A->C) - support(A)*support(C),\n",
      "    range: [-1, 1]\n",
      "\n",
      "  - conviction = [1 - support(C)] / [1 - confidence(A->C)],\n",
      "    range: [0, inf]\n",
      "\n",
      "  - zhangs_metric(A->C) =\n",
      "    leverage(A->C) / max(support(A->C)*(1-support(A)), support(A)*(support(C)-support(A->C)))\n",
      "    range: [-1,1]\n",
      "\n",
      "\n",
      "min_threshold : float (default: 0.8)\n",
      "  Minimal threshold for the evaluation metric,\n",
      "  via the `metric` parameter,\n",
      "  to decide whether a candidate rule is of interest.\n",
      "\n",
      "support_only : bool (default: False)\n",
      "  Only computes the rule support and fills the other\n",
      "  metric columns with NaNs. This is useful if:\n",
      "\n",
      "  a) the input DataFrame is incomplete, e.g., does\n",
      "  not contain support values for all rule antecedents\n",
      "  and consequents\n",
      "\n",
      "  b) you simply want to speed up the computation because\n",
      "  you don't need the other metrics.\n",
      "\n",
      "Returns\n",
      "----------\n",
      "pandas DataFrame with columns \"antecedents\" and \"consequents\"\n",
      "  that store itemsets, plus the scoring metric columns:\n",
      "  \"antecedent support\", \"consequent support\",\n",
      "  \"support\", \"confidence\", \"lift\",\n",
      "  \"leverage\", \"conviction\"\n",
      "  of all rules for which\n",
      "  metric(rule) >= min_threshold.\n",
      "  Each entry in the \"antecedents\" and \"consequents\" columns are\n",
      "  of type `frozenset`, which is a Python built-in type that\n",
      "  behaves similarly to sets except that it is immutable\n",
      "  (For more info, see\n",
      "  https://docs.python.org/3.6/library/stdtypes.html#frozenset).\n",
      "\n",
      "Examples\n",
      "-----------\n",
      "For usage examples, please see\n",
      "https://rasbt.github.io/mlxtend/user_guide/frequent_patterns/association_rules/\n",
      "\u001b[1;31mFile:\u001b[0m      c:\\programdata\\anaconda3\\envs\\data-mining\\lib\\site-packages\\mlxtend\\frequent_patterns\\association_rules.py\n",
      "\u001b[1;31mType:\u001b[0m      function"
     ]
    }
   ],
   "source": [
    "from mlxtend.frequent_patterns import association_rules\n",
    "\n",
    "?association_rules"
   ]
  },
  {
   "cell_type": "code",
   "execution_count": 15,
   "metadata": {
    "ExecuteTime": {
     "end_time": "2020-04-02T19:01:07.446714Z",
     "start_time": "2020-04-02T19:01:07.405126Z"
    }
   },
   "outputs": [
    {
     "data": {
      "text/html": [
       "<div>\n",
       "<style scoped>\n",
       "    .dataframe tbody tr th:only-of-type {\n",
       "        vertical-align: middle;\n",
       "    }\n",
       "\n",
       "    .dataframe tbody tr th {\n",
       "        vertical-align: top;\n",
       "    }\n",
       "\n",
       "    .dataframe thead th {\n",
       "        text-align: right;\n",
       "    }\n",
       "</style>\n",
       "<table border=\"1\" class=\"dataframe\">\n",
       "  <thead>\n",
       "    <tr style=\"text-align: right;\">\n",
       "      <th></th>\n",
       "      <th>antecedents</th>\n",
       "      <th>consequents</th>\n",
       "      <th>antecedent support</th>\n",
       "      <th>consequent support</th>\n",
       "      <th>support</th>\n",
       "      <th>confidence</th>\n",
       "      <th>lift</th>\n",
       "      <th>leverage</th>\n",
       "      <th>conviction</th>\n",
       "      <th>zhangs_metric</th>\n",
       "    </tr>\n",
       "  </thead>\n",
       "  <tbody>\n",
       "    <tr>\n",
       "      <th>0</th>\n",
       "      <td>(mickiewicz)</td>\n",
       "      <td>(adam)</td>\n",
       "      <td>0.054348</td>\n",
       "      <td>0.054348</td>\n",
       "      <td>0.054348</td>\n",
       "      <td>1.000000</td>\n",
       "      <td>18.400000</td>\n",
       "      <td>0.051394</td>\n",
       "      <td>inf</td>\n",
       "      <td>1.000000</td>\n",
       "    </tr>\n",
       "    <tr>\n",
       "      <th>1</th>\n",
       "      <td>(adam)</td>\n",
       "      <td>(mickiewicz)</td>\n",
       "      <td>0.054348</td>\n",
       "      <td>0.054348</td>\n",
       "      <td>0.054348</td>\n",
       "      <td>1.000000</td>\n",
       "      <td>18.400000</td>\n",
       "      <td>0.051394</td>\n",
       "      <td>inf</td>\n",
       "      <td>1.000000</td>\n",
       "    </tr>\n",
       "    <tr>\n",
       "      <th>2</th>\n",
       "      <td>(adam)</td>\n",
       "      <td>(poznań)</td>\n",
       "      <td>0.054348</td>\n",
       "      <td>0.641304</td>\n",
       "      <td>0.054348</td>\n",
       "      <td>1.000000</td>\n",
       "      <td>1.559322</td>\n",
       "      <td>0.019494</td>\n",
       "      <td>inf</td>\n",
       "      <td>0.379310</td>\n",
       "    </tr>\n",
       "    <tr>\n",
       "      <th>3</th>\n",
       "      <td>(also)</td>\n",
       "      <td>(poznań)</td>\n",
       "      <td>0.271739</td>\n",
       "      <td>0.641304</td>\n",
       "      <td>0.206522</td>\n",
       "      <td>0.760000</td>\n",
       "      <td>1.185085</td>\n",
       "      <td>0.032254</td>\n",
       "      <td>1.494565</td>\n",
       "      <td>0.214454</td>\n",
       "    </tr>\n",
       "    <tr>\n",
       "      <th>4</th>\n",
       "      <td>(although)</td>\n",
       "      <td>(poznań)</td>\n",
       "      <td>0.065217</td>\n",
       "      <td>0.641304</td>\n",
       "      <td>0.054348</td>\n",
       "      <td>0.833333</td>\n",
       "      <td>1.299435</td>\n",
       "      <td>0.012524</td>\n",
       "      <td>2.152174</td>\n",
       "      <td>0.246512</td>\n",
       "    </tr>\n",
       "    <tr>\n",
       "      <th>...</th>\n",
       "      <td>...</td>\n",
       "      <td>...</td>\n",
       "      <td>...</td>\n",
       "      <td>...</td>\n",
       "      <td>...</td>\n",
       "      <td>...</td>\n",
       "      <td>...</td>\n",
       "      <td>...</td>\n",
       "      <td>...</td>\n",
       "      <td>...</td>\n",
       "    </tr>\n",
       "    <tr>\n",
       "      <th>150</th>\n",
       "      <td>(capital, greater)</td>\n",
       "      <td>(poland, poznań)</td>\n",
       "      <td>0.065217</td>\n",
       "      <td>0.173913</td>\n",
       "      <td>0.065217</td>\n",
       "      <td>1.000000</td>\n",
       "      <td>5.750000</td>\n",
       "      <td>0.053875</td>\n",
       "      <td>inf</td>\n",
       "      <td>0.883721</td>\n",
       "    </tr>\n",
       "    <tr>\n",
       "      <th>151</th>\n",
       "      <td>(capital, poland)</td>\n",
       "      <td>(poznań, greater)</td>\n",
       "      <td>0.086957</td>\n",
       "      <td>0.086957</td>\n",
       "      <td>0.065217</td>\n",
       "      <td>0.750000</td>\n",
       "      <td>8.625000</td>\n",
       "      <td>0.057656</td>\n",
       "      <td>3.652174</td>\n",
       "      <td>0.968254</td>\n",
       "    </tr>\n",
       "    <tr>\n",
       "      <th>152</th>\n",
       "      <td>(poznań, greater)</td>\n",
       "      <td>(capital, poland)</td>\n",
       "      <td>0.086957</td>\n",
       "      <td>0.086957</td>\n",
       "      <td>0.065217</td>\n",
       "      <td>0.750000</td>\n",
       "      <td>8.625000</td>\n",
       "      <td>0.057656</td>\n",
       "      <td>3.652174</td>\n",
       "      <td>0.968254</td>\n",
       "    </tr>\n",
       "    <tr>\n",
       "      <th>153</th>\n",
       "      <td>(poland, greater)</td>\n",
       "      <td>(capital, poznań)</td>\n",
       "      <td>0.086957</td>\n",
       "      <td>0.119565</td>\n",
       "      <td>0.065217</td>\n",
       "      <td>0.750000</td>\n",
       "      <td>6.272727</td>\n",
       "      <td>0.054820</td>\n",
       "      <td>3.521739</td>\n",
       "      <td>0.920635</td>\n",
       "    </tr>\n",
       "    <tr>\n",
       "      <th>154</th>\n",
       "      <td>(poland, one, city)</td>\n",
       "      <td>(poznań)</td>\n",
       "      <td>0.054348</td>\n",
       "      <td>0.641304</td>\n",
       "      <td>0.054348</td>\n",
       "      <td>1.000000</td>\n",
       "      <td>1.559322</td>\n",
       "      <td>0.019494</td>\n",
       "      <td>inf</td>\n",
       "      <td>0.379310</td>\n",
       "    </tr>\n",
       "  </tbody>\n",
       "</table>\n",
       "<p>155 rows × 10 columns</p>\n",
       "</div>"
      ],
      "text/plain": [
       "             antecedents        consequents  antecedent support  \\\n",
       "0           (mickiewicz)             (adam)            0.054348   \n",
       "1                 (adam)       (mickiewicz)            0.054348   \n",
       "2                 (adam)           (poznań)            0.054348   \n",
       "3                 (also)           (poznań)            0.271739   \n",
       "4             (although)           (poznań)            0.065217   \n",
       "..                   ...                ...                 ...   \n",
       "150   (capital, greater)   (poland, poznań)            0.065217   \n",
       "151    (capital, poland)  (poznań, greater)            0.086957   \n",
       "152    (poznań, greater)  (capital, poland)            0.086957   \n",
       "153    (poland, greater)  (capital, poznań)            0.086957   \n",
       "154  (poland, one, city)           (poznań)            0.054348   \n",
       "\n",
       "     consequent support   support  confidence       lift  leverage  \\\n",
       "0              0.054348  0.054348    1.000000  18.400000  0.051394   \n",
       "1              0.054348  0.054348    1.000000  18.400000  0.051394   \n",
       "2              0.641304  0.054348    1.000000   1.559322  0.019494   \n",
       "3              0.641304  0.206522    0.760000   1.185085  0.032254   \n",
       "4              0.641304  0.054348    0.833333   1.299435  0.012524   \n",
       "..                  ...       ...         ...        ...       ...   \n",
       "150            0.173913  0.065217    1.000000   5.750000  0.053875   \n",
       "151            0.086957  0.065217    0.750000   8.625000  0.057656   \n",
       "152            0.086957  0.065217    0.750000   8.625000  0.057656   \n",
       "153            0.119565  0.065217    0.750000   6.272727  0.054820   \n",
       "154            0.641304  0.054348    1.000000   1.559322  0.019494   \n",
       "\n",
       "     conviction  zhangs_metric  \n",
       "0           inf       1.000000  \n",
       "1           inf       1.000000  \n",
       "2           inf       0.379310  \n",
       "3      1.494565       0.214454  \n",
       "4      2.152174       0.246512  \n",
       "..          ...            ...  \n",
       "150         inf       0.883721  \n",
       "151    3.652174       0.968254  \n",
       "152    3.652174       0.968254  \n",
       "153    3.521739       0.920635  \n",
       "154         inf       0.379310  \n",
       "\n",
       "[155 rows x 10 columns]"
      ]
     },
     "execution_count": 15,
     "metadata": {},
     "output_type": "execute_result"
    }
   ],
   "source": [
    "from mlxtend.frequent_patterns import association_rules\n",
    "\n",
    "association_rules(frequent_itemsets, \n",
    "                  metric='confidence', \n",
    "                  min_threshold=0.7)"
   ]
  },
  {
   "cell_type": "code",
   "execution_count": 16,
   "metadata": {
    "ExecuteTime": {
     "end_time": "2020-04-02T19:01:52.343797Z",
     "start_time": "2020-04-02T19:01:52.139132Z"
    }
   },
   "outputs": [
    {
     "data": {
      "text/html": [
       "<div>\n",
       "<style scoped>\n",
       "    .dataframe tbody tr th:only-of-type {\n",
       "        vertical-align: middle;\n",
       "    }\n",
       "\n",
       "    .dataframe tbody tr th {\n",
       "        vertical-align: top;\n",
       "    }\n",
       "\n",
       "    .dataframe thead th {\n",
       "        text-align: right;\n",
       "    }\n",
       "</style>\n",
       "<table border=\"1\" class=\"dataframe\">\n",
       "  <thead>\n",
       "    <tr style=\"text-align: right;\">\n",
       "      <th></th>\n",
       "      <th>antecedents</th>\n",
       "      <th>consequents</th>\n",
       "      <th>antecedent support</th>\n",
       "      <th>consequent support</th>\n",
       "      <th>support</th>\n",
       "      <th>confidence</th>\n",
       "      <th>lift</th>\n",
       "      <th>leverage</th>\n",
       "      <th>conviction</th>\n",
       "      <th>zhangs_metric</th>\n",
       "    </tr>\n",
       "  </thead>\n",
       "  <tbody>\n",
       "    <tr>\n",
       "      <th>0</th>\n",
       "      <td>(mickiewicz)</td>\n",
       "      <td>(adam)</td>\n",
       "      <td>0.054348</td>\n",
       "      <td>0.054348</td>\n",
       "      <td>0.054348</td>\n",
       "      <td>1.000000</td>\n",
       "      <td>18.400000</td>\n",
       "      <td>0.051394</td>\n",
       "      <td>inf</td>\n",
       "      <td>1.000000</td>\n",
       "    </tr>\n",
       "    <tr>\n",
       "      <th>1</th>\n",
       "      <td>(adam)</td>\n",
       "      <td>(mickiewicz)</td>\n",
       "      <td>0.054348</td>\n",
       "      <td>0.054348</td>\n",
       "      <td>0.054348</td>\n",
       "      <td>1.000000</td>\n",
       "      <td>18.400000</td>\n",
       "      <td>0.051394</td>\n",
       "      <td>inf</td>\n",
       "      <td>1.000000</td>\n",
       "    </tr>\n",
       "    <tr>\n",
       "      <th>2</th>\n",
       "      <td>(capital)</td>\n",
       "      <td>(greater)</td>\n",
       "      <td>0.119565</td>\n",
       "      <td>0.097826</td>\n",
       "      <td>0.065217</td>\n",
       "      <td>0.545455</td>\n",
       "      <td>5.575758</td>\n",
       "      <td>0.053521</td>\n",
       "      <td>1.984783</td>\n",
       "      <td>0.932099</td>\n",
       "    </tr>\n",
       "    <tr>\n",
       "      <th>3</th>\n",
       "      <td>(greater)</td>\n",
       "      <td>(capital)</td>\n",
       "      <td>0.097826</td>\n",
       "      <td>0.119565</td>\n",
       "      <td>0.065217</td>\n",
       "      <td>0.666667</td>\n",
       "      <td>5.575758</td>\n",
       "      <td>0.053521</td>\n",
       "      <td>2.641304</td>\n",
       "      <td>0.909639</td>\n",
       "    </tr>\n",
       "    <tr>\n",
       "      <th>4</th>\n",
       "      <td>(population)</td>\n",
       "      <td>(german)</td>\n",
       "      <td>0.108696</td>\n",
       "      <td>0.086957</td>\n",
       "      <td>0.054348</td>\n",
       "      <td>0.500000</td>\n",
       "      <td>5.750000</td>\n",
       "      <td>0.044896</td>\n",
       "      <td>1.826087</td>\n",
       "      <td>0.926829</td>\n",
       "    </tr>\n",
       "    <tr>\n",
       "      <th>...</th>\n",
       "      <td>...</td>\n",
       "      <td>...</td>\n",
       "      <td>...</td>\n",
       "      <td>...</td>\n",
       "      <td>...</td>\n",
       "      <td>...</td>\n",
       "      <td>...</td>\n",
       "      <td>...</td>\n",
       "      <td>...</td>\n",
       "      <td>...</td>\n",
       "    </tr>\n",
       "    <tr>\n",
       "      <th>57</th>\n",
       "      <td>(poland, poznań)</td>\n",
       "      <td>(capital, greater)</td>\n",
       "      <td>0.173913</td>\n",
       "      <td>0.065217</td>\n",
       "      <td>0.065217</td>\n",
       "      <td>0.375000</td>\n",
       "      <td>5.750000</td>\n",
       "      <td>0.053875</td>\n",
       "      <td>1.495652</td>\n",
       "      <td>1.000000</td>\n",
       "    </tr>\n",
       "    <tr>\n",
       "      <th>58</th>\n",
       "      <td>(poland, greater)</td>\n",
       "      <td>(capital, poznań)</td>\n",
       "      <td>0.086957</td>\n",
       "      <td>0.119565</td>\n",
       "      <td>0.065217</td>\n",
       "      <td>0.750000</td>\n",
       "      <td>6.272727</td>\n",
       "      <td>0.054820</td>\n",
       "      <td>3.521739</td>\n",
       "      <td>0.920635</td>\n",
       "    </tr>\n",
       "    <tr>\n",
       "      <th>59</th>\n",
       "      <td>(capital)</td>\n",
       "      <td>(poland, poznań, greater)</td>\n",
       "      <td>0.119565</td>\n",
       "      <td>0.086957</td>\n",
       "      <td>0.065217</td>\n",
       "      <td>0.545455</td>\n",
       "      <td>6.272727</td>\n",
       "      <td>0.054820</td>\n",
       "      <td>2.008696</td>\n",
       "      <td>0.954733</td>\n",
       "    </tr>\n",
       "    <tr>\n",
       "      <th>60</th>\n",
       "      <td>(greater)</td>\n",
       "      <td>(capital, poznań, poland)</td>\n",
       "      <td>0.097826</td>\n",
       "      <td>0.086957</td>\n",
       "      <td>0.065217</td>\n",
       "      <td>0.666667</td>\n",
       "      <td>7.666667</td>\n",
       "      <td>0.056711</td>\n",
       "      <td>2.739130</td>\n",
       "      <td>0.963855</td>\n",
       "    </tr>\n",
       "    <tr>\n",
       "      <th>61</th>\n",
       "      <td>(poland)</td>\n",
       "      <td>(capital, poznań, greater)</td>\n",
       "      <td>0.173913</td>\n",
       "      <td>0.065217</td>\n",
       "      <td>0.065217</td>\n",
       "      <td>0.375000</td>\n",
       "      <td>5.750000</td>\n",
       "      <td>0.053875</td>\n",
       "      <td>1.495652</td>\n",
       "      <td>1.000000</td>\n",
       "    </tr>\n",
       "  </tbody>\n",
       "</table>\n",
       "<p>62 rows × 10 columns</p>\n",
       "</div>"
      ],
      "text/plain": [
       "          antecedents                 consequents  antecedent support  \\\n",
       "0        (mickiewicz)                      (adam)            0.054348   \n",
       "1              (adam)                (mickiewicz)            0.054348   \n",
       "2           (capital)                   (greater)            0.119565   \n",
       "3           (greater)                   (capital)            0.097826   \n",
       "4        (population)                    (german)            0.108696   \n",
       "..                ...                         ...                 ...   \n",
       "57   (poland, poznań)          (capital, greater)            0.173913   \n",
       "58  (poland, greater)           (capital, poznań)            0.086957   \n",
       "59          (capital)   (poland, poznań, greater)            0.119565   \n",
       "60          (greater)   (capital, poznań, poland)            0.097826   \n",
       "61           (poland)  (capital, poznań, greater)            0.173913   \n",
       "\n",
       "    consequent support   support  confidence       lift  leverage  conviction  \\\n",
       "0             0.054348  0.054348    1.000000  18.400000  0.051394         inf   \n",
       "1             0.054348  0.054348    1.000000  18.400000  0.051394         inf   \n",
       "2             0.097826  0.065217    0.545455   5.575758  0.053521    1.984783   \n",
       "3             0.119565  0.065217    0.666667   5.575758  0.053521    2.641304   \n",
       "4             0.086957  0.054348    0.500000   5.750000  0.044896    1.826087   \n",
       "..                 ...       ...         ...        ...       ...         ...   \n",
       "57            0.065217  0.065217    0.375000   5.750000  0.053875    1.495652   \n",
       "58            0.119565  0.065217    0.750000   6.272727  0.054820    3.521739   \n",
       "59            0.086957  0.065217    0.545455   6.272727  0.054820    2.008696   \n",
       "60            0.086957  0.065217    0.666667   7.666667  0.056711    2.739130   \n",
       "61            0.065217  0.065217    0.375000   5.750000  0.053875    1.495652   \n",
       "\n",
       "    zhangs_metric  \n",
       "0        1.000000  \n",
       "1        1.000000  \n",
       "2        0.932099  \n",
       "3        0.909639  \n",
       "4        0.926829  \n",
       "..            ...  \n",
       "57       1.000000  \n",
       "58       0.920635  \n",
       "59       0.954733  \n",
       "60       0.963855  \n",
       "61       1.000000  \n",
       "\n",
       "[62 rows x 10 columns]"
      ]
     },
     "execution_count": 16,
     "metadata": {},
     "output_type": "execute_result"
    }
   ],
   "source": [
    "association_rules(frequent_itemsets, metric='lift', min_threshold=5.0)"
   ]
  },
  {
   "cell_type": "markdown",
   "metadata": {},
   "source": [
    "Both frequent itemsets and association rules (antecedens and consequents) are returned as `frozenset`s, so we can use [standard API calls](https://docs.python.org/3/library/stdtypes.html#set-types-set-frozenset) to find subsets, supersets, etc."
   ]
  },
  {
   "cell_type": "code",
   "execution_count": 22,
   "metadata": {
    "ExecuteTime": {
     "end_time": "2020-04-02T19:03:38.137703Z",
     "start_time": "2020-04-02T19:03:38.104505Z"
    }
   },
   "outputs": [
    {
     "data": {
      "text/html": [
       "<div>\n",
       "<style scoped>\n",
       "    .dataframe tbody tr th:only-of-type {\n",
       "        vertical-align: middle;\n",
       "    }\n",
       "\n",
       "    .dataframe tbody tr th {\n",
       "        vertical-align: top;\n",
       "    }\n",
       "\n",
       "    .dataframe thead th {\n",
       "        text-align: right;\n",
       "    }\n",
       "</style>\n",
       "<table border=\"1\" class=\"dataframe\">\n",
       "  <thead>\n",
       "    <tr style=\"text-align: right;\">\n",
       "      <th></th>\n",
       "      <th>antecedents</th>\n",
       "      <th>consequents</th>\n",
       "      <th>antecedent support</th>\n",
       "      <th>consequent support</th>\n",
       "      <th>support</th>\n",
       "      <th>confidence</th>\n",
       "      <th>lift</th>\n",
       "      <th>leverage</th>\n",
       "      <th>conviction</th>\n",
       "      <th>zhangs_metric</th>\n",
       "    </tr>\n",
       "  </thead>\n",
       "  <tbody>\n",
       "    <tr>\n",
       "      <th>52</th>\n",
       "      <td>(warta)</td>\n",
       "      <td>(city)</td>\n",
       "      <td>0.097826</td>\n",
       "      <td>0.445652</td>\n",
       "      <td>0.054348</td>\n",
       "      <td>0.555556</td>\n",
       "      <td>1.246612</td>\n",
       "      <td>0.010751</td>\n",
       "      <td>1.247283</td>\n",
       "      <td>0.219277</td>\n",
       "    </tr>\n",
       "    <tr>\n",
       "      <th>105</th>\n",
       "      <td>(warta)</td>\n",
       "      <td>(poznań)</td>\n",
       "      <td>0.097826</td>\n",
       "      <td>0.641304</td>\n",
       "      <td>0.076087</td>\n",
       "      <td>0.777778</td>\n",
       "      <td>1.212806</td>\n",
       "      <td>0.013351</td>\n",
       "      <td>1.614130</td>\n",
       "      <td>0.194492</td>\n",
       "    </tr>\n",
       "    <tr>\n",
       "      <th>109</th>\n",
       "      <td>(warta)</td>\n",
       "      <td>(river)</td>\n",
       "      <td>0.097826</td>\n",
       "      <td>0.065217</td>\n",
       "      <td>0.054348</td>\n",
       "      <td>0.555556</td>\n",
       "      <td>8.518519</td>\n",
       "      <td>0.047968</td>\n",
       "      <td>2.103261</td>\n",
       "      <td>0.978313</td>\n",
       "    </tr>\n",
       "    <tr>\n",
       "      <th>196</th>\n",
       "      <td>(city, warta)</td>\n",
       "      <td>(river)</td>\n",
       "      <td>0.054348</td>\n",
       "      <td>0.065217</td>\n",
       "      <td>0.054348</td>\n",
       "      <td>1.000000</td>\n",
       "      <td>15.333333</td>\n",
       "      <td>0.050803</td>\n",
       "      <td>inf</td>\n",
       "      <td>0.988506</td>\n",
       "    </tr>\n",
       "    <tr>\n",
       "      <th>197</th>\n",
       "      <td>(river, warta)</td>\n",
       "      <td>(city)</td>\n",
       "      <td>0.054348</td>\n",
       "      <td>0.445652</td>\n",
       "      <td>0.054348</td>\n",
       "      <td>1.000000</td>\n",
       "      <td>2.243902</td>\n",
       "      <td>0.030128</td>\n",
       "      <td>inf</td>\n",
       "      <td>0.586207</td>\n",
       "    </tr>\n",
       "    <tr>\n",
       "      <th>199</th>\n",
       "      <td>(warta)</td>\n",
       "      <td>(city, river)</td>\n",
       "      <td>0.097826</td>\n",
       "      <td>0.065217</td>\n",
       "      <td>0.054348</td>\n",
       "      <td>0.555556</td>\n",
       "      <td>8.518519</td>\n",
       "      <td>0.047968</td>\n",
       "      <td>2.103261</td>\n",
       "      <td>0.978313</td>\n",
       "    </tr>\n",
       "  </tbody>\n",
       "</table>\n",
       "</div>"
      ],
      "text/plain": [
       "        antecedents    consequents  antecedent support  consequent support  \\\n",
       "52          (warta)         (city)            0.097826            0.445652   \n",
       "105         (warta)       (poznań)            0.097826            0.641304   \n",
       "109         (warta)        (river)            0.097826            0.065217   \n",
       "196   (city, warta)        (river)            0.054348            0.065217   \n",
       "197  (river, warta)         (city)            0.054348            0.445652   \n",
       "199         (warta)  (city, river)            0.097826            0.065217   \n",
       "\n",
       "      support  confidence       lift  leverage  conviction  zhangs_metric  \n",
       "52   0.054348    0.555556   1.246612  0.010751    1.247283       0.219277  \n",
       "105  0.076087    0.777778   1.212806  0.013351    1.614130       0.194492  \n",
       "109  0.054348    0.555556   8.518519  0.047968    2.103261       0.978313  \n",
       "196  0.054348    1.000000  15.333333  0.050803         inf       0.988506  \n",
       "197  0.054348    1.000000   2.243902  0.030128         inf       0.586207  \n",
       "199  0.054348    0.555556   8.518519  0.047968    2.103261       0.978313  "
      ]
     },
     "execution_count": 22,
     "metadata": {},
     "output_type": "execute_result"
    }
   ],
   "source": [
    "rules = association_rules(frequent_itemsets, metric=\"confidence\", min_threshold=0.5)\n",
    "\n",
    "capital_idx =  rules['antecedents'].apply(lambda x: x.issuperset({'warta'}))\n",
    "rules[capital_idx]"
   ]
  },
  {
   "cell_type": "code",
   "execution_count": null,
   "metadata": {},
   "outputs": [],
   "source": []
  }
 ],
 "metadata": {
  "kernelspec": {
   "display_name": "data-mining",
   "language": "python",
   "name": "python3"
  },
  "language_info": {
   "codemirror_mode": {
    "name": "ipython",
    "version": 3
   },
   "file_extension": ".py",
   "mimetype": "text/x-python",
   "name": "python",
   "nbconvert_exporter": "python",
   "pygments_lexer": "ipython3",
   "version": "3.9.16 (main, Mar  8 2023, 10:39:24) [MSC v.1916 64 bit (AMD64)]"
  },
  "toc": {
   "base_numbering": 1,
   "nav_menu": {},
   "number_sections": true,
   "sideBar": true,
   "skip_h1_title": false,
   "title_cell": "Table of Contents",
   "title_sidebar": "Contents",
   "toc_cell": false,
   "toc_position": {},
   "toc_section_display": true,
   "toc_window_display": false
  },
  "varInspector": {
   "cols": {
    "lenName": 16,
    "lenType": 16,
    "lenVar": 40
   },
   "kernels_config": {
    "python": {
     "delete_cmd_postfix": "",
     "delete_cmd_prefix": "del ",
     "library": "var_list.py",
     "varRefreshCmd": "print(var_dic_list())"
    },
    "r": {
     "delete_cmd_postfix": ") ",
     "delete_cmd_prefix": "rm(",
     "library": "var_list.r",
     "varRefreshCmd": "cat(var_dic_list()) "
    }
   },
   "types_to_exclude": [
    "module",
    "function",
    "builtin_function_or_method",
    "instance",
    "_Feature"
   ],
   "window_display": false
  },
  "vscode": {
   "interpreter": {
    "hash": "37c84837fc4fd1faa9db1a7133d3fd5fa3c27db82248d20b8fc0158524635998"
   }
  }
 },
 "nbformat": 4,
 "nbformat_minor": 4
}
