{
 "cells": [
  {
   "cell_type": "markdown",
   "metadata": {},
   "source": [
    "### Decision Trees in scikit-learn\n",
    "\n",
    "The goal of the laboratory is to familiarize students with building tree classifiers using Python and scikit-learn library.\n",
    "\n",
    "The first step is to import data into [pandas DataFrame](https://pandas.pydata.org/pandas-docs/stable/generated/pandas.DataFrame.html) "
   ]
  },
  {
   "cell_type": "code",
   "execution_count": 1,
   "metadata": {
    "ExecuteTime": {
     "end_time": "2021-05-04T08:16:59.523201Z",
     "start_time": "2021-05-04T08:16:59.042129Z"
    }
   },
   "outputs": [
    {
     "data": {
      "text/html": [
       "<div>\n",
       "<style scoped>\n",
       "    .dataframe tbody tr th:only-of-type {\n",
       "        vertical-align: middle;\n",
       "    }\n",
       "\n",
       "    .dataframe tbody tr th {\n",
       "        vertical-align: top;\n",
       "    }\n",
       "\n",
       "    .dataframe thead th {\n",
       "        text-align: right;\n",
       "    }\n",
       "</style>\n",
       "<table border=\"1\" class=\"dataframe\">\n",
       "  <thead>\n",
       "    <tr style=\"text-align: right;\">\n",
       "      <th></th>\n",
       "      <th>Card_Cust_ID</th>\n",
       "      <th>Unnamed: 3</th>\n",
       "      <th>Last_Month_spend</th>\n",
       "      <th>Last_3m_avg_spend</th>\n",
       "      <th>Spend_Drop_over50pct</th>\n",
       "    </tr>\n",
       "  </thead>\n",
       "  <tbody>\n",
       "    <tr>\n",
       "      <th>count</th>\n",
       "      <td>4.750000e+02</td>\n",
       "      <td>0.0</td>\n",
       "      <td>475.000000</td>\n",
       "      <td>475.000000</td>\n",
       "      <td>475.000000</td>\n",
       "    </tr>\n",
       "    <tr>\n",
       "      <th>mean</th>\n",
       "      <td>1.002555e+06</td>\n",
       "      <td>NaN</td>\n",
       "      <td>602.147368</td>\n",
       "      <td>602.042105</td>\n",
       "      <td>0.263158</td>\n",
       "    </tr>\n",
       "    <tr>\n",
       "      <th>std</th>\n",
       "      <td>4.481438e+03</td>\n",
       "      <td>NaN</td>\n",
       "      <td>343.098348</td>\n",
       "      <td>343.130657</td>\n",
       "      <td>0.440812</td>\n",
       "    </tr>\n",
       "    <tr>\n",
       "      <th>min</th>\n",
       "      <td>1.000001e+06</td>\n",
       "      <td>NaN</td>\n",
       "      <td>10.000000</td>\n",
       "      <td>10.000000</td>\n",
       "      <td>0.000000</td>\n",
       "    </tr>\n",
       "    <tr>\n",
       "      <th>25%</th>\n",
       "      <td>1.000130e+06</td>\n",
       "      <td>NaN</td>\n",
       "      <td>310.000000</td>\n",
       "      <td>305.000000</td>\n",
       "      <td>0.000000</td>\n",
       "    </tr>\n",
       "    <tr>\n",
       "      <th>50%</th>\n",
       "      <td>1.000253e+06</td>\n",
       "      <td>NaN</td>\n",
       "      <td>600.000000</td>\n",
       "      <td>600.000000</td>\n",
       "      <td>0.000000</td>\n",
       "    </tr>\n",
       "    <tr>\n",
       "      <th>75%</th>\n",
       "      <td>1.000382e+06</td>\n",
       "      <td>NaN</td>\n",
       "      <td>900.000000</td>\n",
       "      <td>900.000000</td>\n",
       "      <td>1.000000</td>\n",
       "    </tr>\n",
       "    <tr>\n",
       "      <th>max</th>\n",
       "      <td>1.011114e+06</td>\n",
       "      <td>NaN</td>\n",
       "      <td>1190.000000</td>\n",
       "      <td>1200.000000</td>\n",
       "      <td>1.000000</td>\n",
       "    </tr>\n",
       "  </tbody>\n",
       "</table>\n",
       "</div>"
      ],
      "text/plain": [
       "       Card_Cust_ID  Unnamed: 3  Last_Month_spend  Last_3m_avg_spend  \\\n",
       "count  4.750000e+02         0.0        475.000000         475.000000   \n",
       "mean   1.002555e+06         NaN        602.147368         602.042105   \n",
       "std    4.481438e+03         NaN        343.098348         343.130657   \n",
       "min    1.000001e+06         NaN         10.000000          10.000000   \n",
       "25%    1.000130e+06         NaN        310.000000         305.000000   \n",
       "50%    1.000253e+06         NaN        600.000000         600.000000   \n",
       "75%    1.000382e+06         NaN        900.000000         900.000000   \n",
       "max    1.011114e+06         NaN       1190.000000        1200.000000   \n",
       "\n",
       "       Spend_Drop_over50pct  \n",
       "count            475.000000  \n",
       "mean               0.263158  \n",
       "std                0.440812  \n",
       "min                0.000000  \n",
       "25%                0.000000  \n",
       "50%                0.000000  \n",
       "75%                1.000000  \n",
       "max                1.000000  "
      ]
     },
     "execution_count": 1,
     "metadata": {},
     "output_type": "execute_result"
    }
   ],
   "source": [
    "import pandas as pd\n",
    "\n",
    "df = pd.read_csv('http://dmlab.cs.put.poznan.pl/dokuwiki/lib/exe/fetch.php?media=dt_data.csv')\n",
    "\n",
    "df.describe()"
   ]
  },
  {
   "cell_type": "markdown",
   "metadata": {},
   "source": [
    "It is important to first get familiar with the data by looking at a small subset of rows."
   ]
  },
  {
   "cell_type": "code",
   "execution_count": 2,
   "metadata": {
    "ExecuteTime": {
     "end_time": "2021-05-04T08:17:00.682866Z",
     "start_time": "2021-05-04T08:17:00.660791Z"
    }
   },
   "outputs": [
    {
     "data": {
      "text/html": [
       "<div>\n",
       "<style scoped>\n",
       "    .dataframe tbody tr th:only-of-type {\n",
       "        vertical-align: middle;\n",
       "    }\n",
       "\n",
       "    .dataframe tbody tr th {\n",
       "        vertical-align: top;\n",
       "    }\n",
       "\n",
       "    .dataframe thead th {\n",
       "        text-align: right;\n",
       "    }\n",
       "</style>\n",
       "<table border=\"1\" class=\"dataframe\">\n",
       "  <thead>\n",
       "    <tr style=\"text-align: right;\">\n",
       "      <th></th>\n",
       "      <th>Card_Cust_ID</th>\n",
       "      <th>Gender</th>\n",
       "      <th>Education_level</th>\n",
       "      <th>Unnamed: 3</th>\n",
       "      <th>Last_Month_spend</th>\n",
       "      <th>Last_3m_avg_spend</th>\n",
       "      <th>Spend_Drop_over50pct</th>\n",
       "    </tr>\n",
       "  </thead>\n",
       "  <tbody>\n",
       "    <tr>\n",
       "      <th>0</th>\n",
       "      <td>1000001</td>\n",
       "      <td>F</td>\n",
       "      <td>University</td>\n",
       "      <td>NaN</td>\n",
       "      <td>160</td>\n",
       "      <td>200</td>\n",
       "      <td>1</td>\n",
       "    </tr>\n",
       "    <tr>\n",
       "      <th>1</th>\n",
       "      <td>1000002</td>\n",
       "      <td>F</td>\n",
       "      <td>University</td>\n",
       "      <td>NaN</td>\n",
       "      <td>250</td>\n",
       "      <td>190</td>\n",
       "      <td>0</td>\n",
       "    </tr>\n",
       "    <tr>\n",
       "      <th>2</th>\n",
       "      <td>1000003</td>\n",
       "      <td>F</td>\n",
       "      <td>University</td>\n",
       "      <td>NaN</td>\n",
       "      <td>470</td>\n",
       "      <td>530</td>\n",
       "      <td>0</td>\n",
       "    </tr>\n",
       "    <tr>\n",
       "      <th>3</th>\n",
       "      <td>1000004</td>\n",
       "      <td>F</td>\n",
       "      <td>University</td>\n",
       "      <td>NaN</td>\n",
       "      <td>830</td>\n",
       "      <td>800</td>\n",
       "      <td>0</td>\n",
       "    </tr>\n",
       "    <tr>\n",
       "      <th>4</th>\n",
       "      <td>1000005</td>\n",
       "      <td>M</td>\n",
       "      <td>University</td>\n",
       "      <td>NaN</td>\n",
       "      <td>750</td>\n",
       "      <td>480</td>\n",
       "      <td>0</td>\n",
       "    </tr>\n",
       "    <tr>\n",
       "      <th>5</th>\n",
       "      <td>1000006</td>\n",
       "      <td>M</td>\n",
       "      <td>Graduate</td>\n",
       "      <td>NaN</td>\n",
       "      <td>870</td>\n",
       "      <td>870</td>\n",
       "      <td>1</td>\n",
       "    </tr>\n",
       "    <tr>\n",
       "      <th>6</th>\n",
       "      <td>1000007</td>\n",
       "      <td>M</td>\n",
       "      <td>Graduate</td>\n",
       "      <td>NaN</td>\n",
       "      <td>1190</td>\n",
       "      <td>1190</td>\n",
       "      <td>0</td>\n",
       "    </tr>\n",
       "    <tr>\n",
       "      <th>7</th>\n",
       "      <td>1000008</td>\n",
       "      <td>F</td>\n",
       "      <td>University</td>\n",
       "      <td>NaN</td>\n",
       "      <td>150</td>\n",
       "      <td>260</td>\n",
       "      <td>1</td>\n",
       "    </tr>\n",
       "    <tr>\n",
       "      <th>8</th>\n",
       "      <td>1000009</td>\n",
       "      <td>F</td>\n",
       "      <td>High School</td>\n",
       "      <td>NaN</td>\n",
       "      <td>450</td>\n",
       "      <td>410</td>\n",
       "      <td>0</td>\n",
       "    </tr>\n",
       "    <tr>\n",
       "      <th>9</th>\n",
       "      <td>1000011</td>\n",
       "      <td>F</td>\n",
       "      <td>High School</td>\n",
       "      <td>NaN</td>\n",
       "      <td>330</td>\n",
       "      <td>350</td>\n",
       "      <td>1</td>\n",
       "    </tr>\n",
       "  </tbody>\n",
       "</table>\n",
       "</div>"
      ],
      "text/plain": [
       "   Card_Cust_ID Gender Education_level  Unnamed: 3  Last_Month_spend  \\\n",
       "0       1000001      F      University         NaN               160   \n",
       "1       1000002      F      University         NaN               250   \n",
       "2       1000003      F      University         NaN               470   \n",
       "3       1000004      F      University         NaN               830   \n",
       "4       1000005      M      University         NaN               750   \n",
       "5       1000006      M        Graduate         NaN               870   \n",
       "6       1000007      M        Graduate         NaN              1190   \n",
       "7       1000008      F      University         NaN               150   \n",
       "8       1000009      F     High School         NaN               450   \n",
       "9       1000011      F     High School         NaN               330   \n",
       "\n",
       "   Last_3m_avg_spend  Spend_Drop_over50pct  \n",
       "0                200                     1  \n",
       "1                190                     0  \n",
       "2                530                     0  \n",
       "3                800                     0  \n",
       "4                480                     0  \n",
       "5                870                     1  \n",
       "6               1190                     0  \n",
       "7                260                     1  \n",
       "8                410                     0  \n",
       "9                350                     1  "
      ]
     },
     "execution_count": 2,
     "metadata": {},
     "output_type": "execute_result"
    }
   ],
   "source": [
    "df.head(10)"
   ]
  },
  {
   "cell_type": "code",
   "execution_count": 3,
   "metadata": {
    "ExecuteTime": {
     "end_time": "2021-05-04T08:17:03.160127Z",
     "start_time": "2021-05-04T08:17:03.147546Z"
    }
   },
   "outputs": [
    {
     "data": {
      "text/plain": [
       "Index(['Card_Cust_ID', 'Gender', 'Education_level', 'Unnamed: 3',\n",
       "       'Last_Month_spend', 'Last_3m_avg_spend', 'Spend_Drop_over50pct'],\n",
       "      dtype='object')"
      ]
     },
     "execution_count": 3,
     "metadata": {},
     "output_type": "execute_result"
    }
   ],
   "source": [
    "df.columns"
   ]
  },
  {
   "cell_type": "markdown",
   "metadata": {},
   "source": [
    "We have to perform some basic data preprocessing:\n",
    "\n",
    "* remove the _Unnamed: 3_ column\n",
    "* recode the label"
   ]
  },
  {
   "cell_type": "code",
   "execution_count": 4,
   "metadata": {
    "ExecuteTime": {
     "end_time": "2021-05-04T08:17:04.460453Z",
     "start_time": "2021-05-04T08:17:04.437792Z"
    }
   },
   "outputs": [
    {
     "data": {
      "text/html": [
       "<div>\n",
       "<style scoped>\n",
       "    .dataframe tbody tr th:only-of-type {\n",
       "        vertical-align: middle;\n",
       "    }\n",
       "\n",
       "    .dataframe tbody tr th {\n",
       "        vertical-align: top;\n",
       "    }\n",
       "\n",
       "    .dataframe thead th {\n",
       "        text-align: right;\n",
       "    }\n",
       "</style>\n",
       "<table border=\"1\" class=\"dataframe\">\n",
       "  <thead>\n",
       "    <tr style=\"text-align: right;\">\n",
       "      <th></th>\n",
       "      <th>Gender</th>\n",
       "      <th>Education_level</th>\n",
       "      <th>Last_Month_spend</th>\n",
       "      <th>Last_3m_avg_spend</th>\n",
       "      <th>Spend_Drop_over50pct</th>\n",
       "    </tr>\n",
       "  </thead>\n",
       "  <tbody>\n",
       "    <tr>\n",
       "      <th>0</th>\n",
       "      <td>F</td>\n",
       "      <td>University</td>\n",
       "      <td>160</td>\n",
       "      <td>200</td>\n",
       "      <td>yes</td>\n",
       "    </tr>\n",
       "    <tr>\n",
       "      <th>1</th>\n",
       "      <td>F</td>\n",
       "      <td>University</td>\n",
       "      <td>250</td>\n",
       "      <td>190</td>\n",
       "      <td>no</td>\n",
       "    </tr>\n",
       "    <tr>\n",
       "      <th>2</th>\n",
       "      <td>F</td>\n",
       "      <td>University</td>\n",
       "      <td>470</td>\n",
       "      <td>530</td>\n",
       "      <td>no</td>\n",
       "    </tr>\n",
       "    <tr>\n",
       "      <th>3</th>\n",
       "      <td>F</td>\n",
       "      <td>University</td>\n",
       "      <td>830</td>\n",
       "      <td>800</td>\n",
       "      <td>no</td>\n",
       "    </tr>\n",
       "    <tr>\n",
       "      <th>4</th>\n",
       "      <td>M</td>\n",
       "      <td>University</td>\n",
       "      <td>750</td>\n",
       "      <td>480</td>\n",
       "      <td>no</td>\n",
       "    </tr>\n",
       "  </tbody>\n",
       "</table>\n",
       "</div>"
      ],
      "text/plain": [
       "  Gender Education_level  Last_Month_spend  Last_3m_avg_spend  \\\n",
       "0      F      University               160                200   \n",
       "1      F      University               250                190   \n",
       "2      F      University               470                530   \n",
       "3      F      University               830                800   \n",
       "4      M      University               750                480   \n",
       "\n",
       "  Spend_Drop_over50pct  \n",
       "0                  yes  \n",
       "1                   no  \n",
       "2                   no  \n",
       "3                   no  \n",
       "4                   no  "
      ]
     },
     "execution_count": 4,
     "metadata": {},
     "output_type": "execute_result"
    }
   ],
   "source": [
    "# inplace=True modifies existing dataframe instead of returning a reference to a new object\n",
    "\n",
    "df.drop('Unnamed: 3', axis=1, inplace=True)\n",
    "df.drop('Card_Cust_ID', axis=1, inplace=True)\n",
    "\n",
    "df.Spend_Drop_over50pct.replace([0,1], ['no','yes'], inplace=True)\n",
    "\n",
    "df.head()"
   ]
  },
  {
   "cell_type": "markdown",
   "metadata": {},
   "source": [
    "Scikit-learn does not accept categorical variables, they should be encoded as numbers"
   ]
  },
  {
   "cell_type": "code",
   "execution_count": 5,
   "metadata": {
    "ExecuteTime": {
     "end_time": "2021-05-04T08:17:07.890661Z",
     "start_time": "2021-05-04T08:17:05.672147Z"
    }
   },
   "outputs": [
    {
     "data": {
      "text/html": [
       "<div>\n",
       "<style scoped>\n",
       "    .dataframe tbody tr th:only-of-type {\n",
       "        vertical-align: middle;\n",
       "    }\n",
       "\n",
       "    .dataframe tbody tr th {\n",
       "        vertical-align: top;\n",
       "    }\n",
       "\n",
       "    .dataframe thead th {\n",
       "        text-align: right;\n",
       "    }\n",
       "</style>\n",
       "<table border=\"1\" class=\"dataframe\">\n",
       "  <thead>\n",
       "    <tr style=\"text-align: right;\">\n",
       "      <th></th>\n",
       "      <th>Gender</th>\n",
       "      <th>Education_level</th>\n",
       "      <th>Last_Month_spend</th>\n",
       "      <th>Last_3m_avg_spend</th>\n",
       "      <th>Spend_Drop_over50pct</th>\n",
       "    </tr>\n",
       "  </thead>\n",
       "  <tbody>\n",
       "    <tr>\n",
       "      <th>0</th>\n",
       "      <td>0</td>\n",
       "      <td>University</td>\n",
       "      <td>160</td>\n",
       "      <td>200</td>\n",
       "      <td>yes</td>\n",
       "    </tr>\n",
       "    <tr>\n",
       "      <th>1</th>\n",
       "      <td>0</td>\n",
       "      <td>University</td>\n",
       "      <td>250</td>\n",
       "      <td>190</td>\n",
       "      <td>no</td>\n",
       "    </tr>\n",
       "    <tr>\n",
       "      <th>2</th>\n",
       "      <td>0</td>\n",
       "      <td>University</td>\n",
       "      <td>470</td>\n",
       "      <td>530</td>\n",
       "      <td>no</td>\n",
       "    </tr>\n",
       "    <tr>\n",
       "      <th>3</th>\n",
       "      <td>0</td>\n",
       "      <td>University</td>\n",
       "      <td>830</td>\n",
       "      <td>800</td>\n",
       "      <td>no</td>\n",
       "    </tr>\n",
       "    <tr>\n",
       "      <th>4</th>\n",
       "      <td>1</td>\n",
       "      <td>University</td>\n",
       "      <td>750</td>\n",
       "      <td>480</td>\n",
       "      <td>no</td>\n",
       "    </tr>\n",
       "  </tbody>\n",
       "</table>\n",
       "</div>"
      ],
      "text/plain": [
       "   Gender Education_level  Last_Month_spend  Last_3m_avg_spend  \\\n",
       "0       0      University               160                200   \n",
       "1       0      University               250                190   \n",
       "2       0      University               470                530   \n",
       "3       0      University               830                800   \n",
       "4       1      University               750                480   \n",
       "\n",
       "  Spend_Drop_over50pct  \n",
       "0                  yes  \n",
       "1                   no  \n",
       "2                   no  \n",
       "3                   no  \n",
       "4                   no  "
      ]
     },
     "execution_count": 5,
     "metadata": {},
     "output_type": "execute_result"
    }
   ],
   "source": [
    "from sklearn.preprocessing import LabelEncoder, OneHotEncoder\n",
    "\n",
    "gender_ = LabelEncoder().fit(df.Gender)\n",
    "df.Gender = gender_.transform(df.Gender)\n",
    "\n",
    "df.head()"
   ]
  },
  {
   "cell_type": "code",
   "execution_count": 6,
   "metadata": {
    "ExecuteTime": {
     "end_time": "2021-05-04T08:17:09.723997Z",
     "start_time": "2021-05-04T08:17:09.701488Z"
    }
   },
   "outputs": [
    {
     "data": {
      "text/html": [
       "<div>\n",
       "<style scoped>\n",
       "    .dataframe tbody tr th:only-of-type {\n",
       "        vertical-align: middle;\n",
       "    }\n",
       "\n",
       "    .dataframe tbody tr th {\n",
       "        vertical-align: top;\n",
       "    }\n",
       "\n",
       "    .dataframe thead th {\n",
       "        text-align: right;\n",
       "    }\n",
       "</style>\n",
       "<table border=\"1\" class=\"dataframe\">\n",
       "  <thead>\n",
       "    <tr style=\"text-align: right;\">\n",
       "      <th></th>\n",
       "      <th>Gender</th>\n",
       "      <th>Education_level</th>\n",
       "      <th>Last_Month_spend</th>\n",
       "      <th>Last_3m_avg_spend</th>\n",
       "      <th>Spend_Drop_over50pct</th>\n",
       "    </tr>\n",
       "  </thead>\n",
       "  <tbody>\n",
       "    <tr>\n",
       "      <th>0</th>\n",
       "      <td>0</td>\n",
       "      <td>3</td>\n",
       "      <td>160</td>\n",
       "      <td>200</td>\n",
       "      <td>yes</td>\n",
       "    </tr>\n",
       "    <tr>\n",
       "      <th>1</th>\n",
       "      <td>0</td>\n",
       "      <td>3</td>\n",
       "      <td>250</td>\n",
       "      <td>190</td>\n",
       "      <td>no</td>\n",
       "    </tr>\n",
       "    <tr>\n",
       "      <th>2</th>\n",
       "      <td>0</td>\n",
       "      <td>3</td>\n",
       "      <td>470</td>\n",
       "      <td>530</td>\n",
       "      <td>no</td>\n",
       "    </tr>\n",
       "    <tr>\n",
       "      <th>3</th>\n",
       "      <td>0</td>\n",
       "      <td>3</td>\n",
       "      <td>830</td>\n",
       "      <td>800</td>\n",
       "      <td>no</td>\n",
       "    </tr>\n",
       "    <tr>\n",
       "      <th>4</th>\n",
       "      <td>1</td>\n",
       "      <td>3</td>\n",
       "      <td>750</td>\n",
       "      <td>480</td>\n",
       "      <td>no</td>\n",
       "    </tr>\n",
       "  </tbody>\n",
       "</table>\n",
       "</div>"
      ],
      "text/plain": [
       "   Gender  Education_level  Last_Month_spend  Last_3m_avg_spend  \\\n",
       "0       0                3               160                200   \n",
       "1       0                3               250                190   \n",
       "2       0                3               470                530   \n",
       "3       0                3               830                800   \n",
       "4       1                3               750                480   \n",
       "\n",
       "  Spend_Drop_over50pct  \n",
       "0                  yes  \n",
       "1                   no  \n",
       "2                   no  \n",
       "3                   no  \n",
       "4                   no  "
      ]
     },
     "execution_count": 6,
     "metadata": {},
     "output_type": "execute_result"
    }
   ],
   "source": [
    "education_ = LabelEncoder().fit(df.Education_level)\n",
    "df.Education_level = education_.transform(df.Education_level)\n",
    "\n",
    "df.head()"
   ]
  },
  {
   "cell_type": "markdown",
   "metadata": {},
   "source": [
    "Next we should examine the distribution of values of the target attribute"
   ]
  },
  {
   "cell_type": "code",
   "execution_count": 8,
   "metadata": {
    "ExecuteTime": {
     "end_time": "2021-05-04T08:17:13.543514Z",
     "start_time": "2021-05-04T08:17:13.159058Z"
    }
   },
   "outputs": [
    {
     "data": {
      "text/plain": [
       "<Axes: >"
      ]
     },
     "execution_count": 8,
     "metadata": {},
     "output_type": "execute_result"
    },
    {
     "data": {
      "image/png": "[encoded data removed]",
      "text/plain": [
       "<Figure size 640x480 with 1 Axes>"
      ]
     },
     "metadata": {},
     "output_type": "display_data"
    }
   ],
   "source": [
    "df.Spend_Drop_over50pct.value_counts().plot(kind='bar')"
   ]
  },
  {
   "cell_type": "markdown",
   "metadata": {},
   "source": [
    "Before building the classifier we have to construct the _train set_ and the _test set_"
   ]
  },
  {
   "cell_type": "code",
   "execution_count": 9,
   "metadata": {
    "ExecuteTime": {
     "end_time": "2021-05-04T08:17:14.525119Z",
     "start_time": "2021-05-04T08:17:14.480508Z"
    }
   },
   "outputs": [],
   "source": [
    "from sklearn.model_selection import train_test_split\n",
    "\n",
    "y = df.pop('Spend_Drop_over50pct')\n",
    "X = df\n",
    "\n",
    "X_train, X_test, y_train, y_test = train_test_split(\n",
    "    X, y, test_size=0.7, random_state=42)"
   ]
  },
  {
   "cell_type": "code",
   "execution_count": 10,
   "metadata": {
    "ExecuteTime": {
     "end_time": "2021-05-04T08:17:15.310011Z",
     "start_time": "2021-05-04T08:17:15.295370Z"
    }
   },
   "outputs": [
    {
     "data": {
      "text/plain": [
       "254    yes\n",
       "394     no\n",
       "4       no\n",
       "256    yes\n",
       "427    yes\n",
       "Name: Spend_Drop_over50pct, dtype: object"
      ]
     },
     "execution_count": 10,
     "metadata": {},
     "output_type": "execute_result"
    }
   ],
   "source": [
    "y_train.head()"
   ]
  },
  {
   "cell_type": "markdown",
   "metadata": {},
   "source": [
    "This is all we need to build a [Decision Tree classifier](http://scikit-learn.org/stable/modules/generated/sklearn.tree.DecisionTreeClassifier.html#sklearn.tree.DecisionTreeClassifier)"
   ]
  },
  {
   "cell_type": "code",
   "execution_count": 11,
   "metadata": {
    "ExecuteTime": {
     "end_time": "2021-05-04T08:17:19.072435Z",
     "start_time": "2021-05-04T08:17:18.967452Z"
    }
   },
   "outputs": [],
   "source": [
    "from sklearn.tree import DecisionTreeClassifier"
   ]
  },
  {
   "cell_type": "code",
   "execution_count": 12,
   "metadata": {
    "ExecuteTime": {
     "end_time": "2021-05-04T08:17:19.803141Z",
     "start_time": "2021-05-04T08:17:19.784078Z"
    }
   },
   "outputs": [
    {
     "data": {
      "text/html": [
       "<style>#sk-container-id-1 {color: black;background-color: white;}#sk-container-id-1 pre{padding: 0;}#sk-container-id-1 div.sk-toggleable {background-color: white;}#sk-container-id-1 label.sk-toggleable__label {cursor: pointer;display: block;width: 100%;margin-bottom: 0;padding: 0.3em;box-sizing: border-box;text-align: center;}#sk-container-id-1 label.sk-toggleable__label-arrow:before {content: \"▸\";float: left;margin-right: 0.25em;color: #696969;}#sk-container-id-1 label.sk-toggleable__label-arrow:hover:before {color: black;}#sk-container-id-1 div.sk-estimator:hover label.sk-toggleable__label-arrow:before {color: black;}#sk-container-id-1 div.sk-toggleable__content {max-height: 0;max-width: 0;overflow: hidden;text-align: left;background-color: #f0f8ff;}#sk-container-id-1 div.sk-toggleable__content pre {margin: 0.2em;color: black;border-radius: 0.25em;background-color: #f0f8ff;}#sk-container-id-1 input.sk-toggleable__control:checked~div.sk-toggleable__content {max-height: 200px;max-width: 100%;overflow: auto;}#sk-container-id-1 input.sk-toggleable__control:checked~label.sk-toggleable__label-arrow:before {content: \"▾\";}#sk-container-id-1 div.sk-estimator input.sk-toggleable__control:checked~label.sk-toggleable__label {background-color: #d4ebff;}#sk-container-id-1 div.sk-label input.sk-toggleable__control:checked~label.sk-toggleable__label {background-color: #d4ebff;}#sk-container-id-1 input.sk-hidden--visually {border: 0;clip: rect(1px 1px 1px 1px);clip: rect(1px, 1px, 1px, 1px);height: 1px;margin: -1px;overflow: hidden;padding: 0;position: absolute;width: 1px;}#sk-container-id-1 div.sk-estimator {font-family: monospace;background-color: #f0f8ff;border: 1px dotted black;border-radius: 0.25em;box-sizing: border-box;margin-bottom: 0.5em;}#sk-container-id-1 div.sk-estimator:hover {background-color: #d4ebff;}#sk-container-id-1 div.sk-parallel-item::after {content: \"\";width: 100%;border-bottom: 1px solid gray;flex-grow: 1;}#sk-container-id-1 div.sk-label:hover label.sk-toggleable__label {background-color: #d4ebff;}#sk-container-id-1 div.sk-serial::before {content: \"\";position: absolute;border-left: 1px solid gray;box-sizing: border-box;top: 0;bottom: 0;left: 50%;z-index: 0;}#sk-container-id-1 div.sk-serial {display: flex;flex-direction: column;align-items: center;background-color: white;padding-right: 0.2em;padding-left: 0.2em;position: relative;}#sk-container-id-1 div.sk-item {position: relative;z-index: 1;}#sk-container-id-1 div.sk-parallel {display: flex;align-items: stretch;justify-content: center;background-color: white;position: relative;}#sk-container-id-1 div.sk-item::before, #sk-container-id-1 div.sk-parallel-item::before {content: \"\";position: absolute;border-left: 1px solid gray;box-sizing: border-box;top: 0;bottom: 0;left: 50%;z-index: -1;}#sk-container-id-1 div.sk-parallel-item {display: flex;flex-direction: column;z-index: 1;position: relative;background-color: white;}#sk-container-id-1 div.sk-parallel-item:first-child::after {align-self: flex-end;width: 50%;}#sk-container-id-1 div.sk-parallel-item:last-child::after {align-self: flex-start;width: 50%;}#sk-container-id-1 div.sk-parallel-item:only-child::after {width: 0;}#sk-container-id-1 div.sk-dashed-wrapped {border: 1px dashed gray;margin: 0 0.4em 0.5em 0.4em;box-sizing: border-box;padding-bottom: 0.4em;background-color: white;}#sk-container-id-1 div.sk-label label {font-family: monospace;font-weight: bold;display: inline-block;line-height: 1.2em;}#sk-container-id-1 div.sk-label-container {text-align: center;}#sk-container-id-1 div.sk-container {/* jupyter's `normalize.less` sets `[hidden] { display: none; }` but bootstrap.min.css set `[hidden] { display: none !important; }` so we also need the `!important` here to be able to override the default hidden behavior on the sphinx rendered scikit-learn.org. See: https://github.com/scikit-learn/scikit-learn/issues/21755 */display: inline-block !important;position: relative;}#sk-container-id-1 div.sk-text-repr-fallback {display: none;}</style><div id=\"sk-container-id-1\" class=\"sk-top-container\"><div class=\"sk-text-repr-fallback\"><pre>DecisionTreeClassifier(max_depth=5, min_samples_leaf=5)</pre><b>In a Jupyter environment, please rerun this cell to show the HTML representation or trust the notebook. <br />On GitHub, the HTML representation is unable to render, please try loading this page with nbviewer.org.</b></div><div class=\"sk-container\" hidden><div class=\"sk-item\"><div class=\"sk-estimator sk-toggleable\"><input class=\"sk-toggleable__control sk-hidden--visually\" id=\"sk-estimator-id-1\" type=\"checkbox\" checked><label for=\"sk-estimator-id-1\" class=\"sk-toggleable__label sk-toggleable__label-arrow\">DecisionTreeClassifier</label><div class=\"sk-toggleable__content\"><pre>DecisionTreeClassifier(max_depth=5, min_samples_leaf=5)</pre></div></div></div></div></div>"
      ],
      "text/plain": [
       "DecisionTreeClassifier(max_depth=5, min_samples_leaf=5)"
      ]
     },
     "execution_count": 12,
     "metadata": {},
     "output_type": "execute_result"
    }
   ],
   "source": [
    "# build the model\n",
    "model = DecisionTreeClassifier(\n",
    "    criterion='gini', \n",
    "    max_depth=5, \n",
    "    min_samples_leaf=5)\n",
    "\n",
    "# train the model\n",
    "model.fit(X_train, y_train)"
   ]
  },
  {
   "cell_type": "markdown",
   "metadata": {},
   "source": [
    "After building the tree we can check its accuracy, precision, and recall"
   ]
  },
  {
   "cell_type": "code",
   "execution_count": 13,
   "metadata": {
    "ExecuteTime": {
     "end_time": "2021-05-04T08:17:29.120786Z",
     "start_time": "2021-05-04T08:17:29.081183Z"
    }
   },
   "outputs": [
    {
     "name": "stdout",
     "output_type": "stream",
     "text": [
      "accuracy: 0.7417417417417418\n",
      "\n",
      "confusion matrix\n",
      " [[221  18]\n",
      " [ 68  26]]\n",
      "              precision    recall  f1-score   support\n",
      "\n",
      "          no       0.76      0.92      0.84       239\n",
      "         yes       0.59      0.28      0.38        94\n",
      "\n",
      "    accuracy                           0.74       333\n",
      "   macro avg       0.68      0.60      0.61       333\n",
      "weighted avg       0.72      0.74      0.71       333\n",
      "\n"
     ]
    }
   ],
   "source": [
    "from sklearn.metrics import classification_report, confusion_matrix, accuracy_score\n",
    "\n",
    "y_pred = model.predict(X_test)\n",
    "\n",
    "print(f'accuracy: {accuracy_score(y_test, y_pred)}\\n')\n",
    "print(f'confusion matrix\\n {confusion_matrix(y_test, y_pred)}')\n",
    "print(classification_report(y_test, y_pred))"
   ]
  },
  {
   "cell_type": "markdown",
   "metadata": {},
   "source": [
    "It is also possible to visualize the generated tree using the [Graphviz library](http://www.webgraphviz.com)"
   ]
  },
  {
   "cell_type": "code",
   "execution_count": 14,
   "metadata": {
    "ExecuteTime": {
     "end_time": "2021-05-04T08:18:06.127392Z",
     "start_time": "2021-05-04T08:18:06.041065Z"
    }
   },
   "outputs": [
    {
     "ename": "ModuleNotFoundError",
     "evalue": "No module named 'graphviz'",
     "output_type": "error",
     "traceback": [
      "\u001b[1;31m---------------------------------------------------------------------------\u001b[0m",
      "\u001b[1;31mModuleNotFoundError\u001b[0m                       Traceback (most recent call last)",
      "Cell \u001b[1;32mIn[14], line 2\u001b[0m\n\u001b[0;32m      1\u001b[0m \u001b[38;5;28;01mfrom\u001b[39;00m \u001b[38;5;21;01msklearn\u001b[39;00m\u001b[38;5;21;01m.\u001b[39;00m\u001b[38;5;21;01mtree\u001b[39;00m \u001b[38;5;28;01mimport\u001b[39;00m export_graphviz\n\u001b[1;32m----> 2\u001b[0m \u001b[38;5;28;01mimport\u001b[39;00m \u001b[38;5;21;01mgraphviz\u001b[39;00m\n\u001b[0;32m      4\u001b[0m export_graphviz(model, \n\u001b[0;32m      5\u001b[0m                 out_file \u001b[38;5;241m=\u001b[39m \u001b[38;5;124m\"\u001b[39m\u001b[38;5;124mmodel.dot\u001b[39m\u001b[38;5;124m\"\u001b[39m, \n\u001b[0;32m      6\u001b[0m                 filled\u001b[38;5;241m=\u001b[39m\u001b[38;5;28;01mTrue\u001b[39;00m,\n\u001b[0;32m      7\u001b[0m                 feature_names \u001b[38;5;241m=\u001b[39m X_train\u001b[38;5;241m.\u001b[39mcolumns)\n\u001b[0;32m      9\u001b[0m \u001b[38;5;28;01mwith\u001b[39;00m \u001b[38;5;28mopen\u001b[39m(\u001b[38;5;124m\"\u001b[39m\u001b[38;5;124mmodel.dot\u001b[39m\u001b[38;5;124m\"\u001b[39m) \u001b[38;5;28;01mas\u001b[39;00m f:\n",
      "\u001b[1;31mModuleNotFoundError\u001b[0m: No module named 'graphviz'"
     ]
    }
   ],
   "source": [
    "from sklearn.tree import export_graphviz\n",
    "import graphviz\n",
    "\n",
    "export_graphviz(model, \n",
    "                out_file = \"model.dot\", \n",
    "                filled=True,\n",
    "                feature_names = X_train.columns)\n",
    "\n",
    "with open(\"model.dot\") as f:\n",
    "    dot_graph = f.read()\n",
    "graphviz.Source(dot_graph)"
   ]
  },
  {
   "cell_type": "markdown",
   "metadata": {},
   "source": [
    "Guessing correct values of algorithm's parameters can be tedious and difficult. It is much easier to allow the algorithm to explore the whole space of parameter values using either exhaustive grid search or some heuristic"
   ]
  },
  {
   "cell_type": "code",
   "execution_count": null,
   "metadata": {
    "ExecuteTime": {
     "end_time": "2021-05-04T08:18:16.592364Z",
     "start_time": "2021-05-04T08:18:12.060006Z"
    }
   },
   "outputs": [],
   "source": [
    "from sklearn.model_selection import GridSearchCV\n",
    "\n",
    "params = { \n",
    "    'max_depth' : range(1,15),\n",
    "    'criterion' : ['gini','entropy'],\n",
    "    'min_samples_leaf' : range(2,20)\n",
    "}\n",
    "\n",
    "model_ = GridSearchCV(estimator = DecisionTreeClassifier(), \n",
    "                      cv=5,\n",
    "                      param_grid=params, \n",
    "                      n_jobs=7)\n",
    "model_.fit(X, y)"
   ]
  },
  {
   "cell_type": "code",
   "execution_count": null,
   "metadata": {
    "ExecuteTime": {
     "end_time": "2021-05-04T08:18:17.558194Z",
     "start_time": "2021-05-04T08:18:17.547441Z"
    }
   },
   "outputs": [],
   "source": [
    "print(model_.best_score_)"
   ]
  },
  {
   "cell_type": "code",
   "execution_count": null,
   "metadata": {
    "ExecuteTime": {
     "end_time": "2021-05-04T08:18:20.215764Z",
     "start_time": "2021-05-04T08:18:20.207451Z"
    }
   },
   "outputs": [],
   "source": [
    "model_.best_estimator_"
   ]
  },
  {
   "cell_type": "markdown",
   "metadata": {},
   "source": [
    "Let's use the best combination of parameters for scoring our classifier"
   ]
  },
  {
   "cell_type": "code",
   "execution_count": null,
   "metadata": {
    "ExecuteTime": {
     "end_time": "2021-05-04T08:18:22.629041Z",
     "start_time": "2021-05-04T08:18:22.592388Z"
    }
   },
   "outputs": [],
   "source": [
    "model = model_.best_estimator_\n",
    "y_pred = model.predict(X_test)\n",
    "\n",
    "print(f'accuracy: {accuracy_score(y_test, y_pred)}\\n')\n",
    "print(f'confusion matrix\\n {confusion_matrix(y_test, y_pred)}')\n",
    "print(classification_report(y_test, y_pred))"
   ]
  },
  {
   "cell_type": "markdown",
   "metadata": {},
   "source": [
    "Unfortunately, the performance w.r.t. the minority class is still not satisfying. One possible solution is to present the classifier with some class weights."
   ]
  },
  {
   "cell_type": "code",
   "execution_count": null,
   "metadata": {
    "ExecuteTime": {
     "end_time": "2021-05-04T08:18:28.636010Z",
     "start_time": "2021-05-04T08:18:28.593424Z"
    }
   },
   "outputs": [],
   "source": [
    "# build the model\n",
    "model = DecisionTreeClassifier(\n",
    "    max_depth=5, \n",
    "    min_samples_leaf=11,\n",
    "    class_weight={'no': 1.0, 'yes': 5.0})\n",
    "\n",
    "# train the model\n",
    "model.fit(X_train, y_train)\n",
    "\n",
    "# apply the model\n",
    "y_pred = model.predict(X_test)\n",
    "\n",
    "print(f'accuracy: {accuracy_score(y_test, y_pred)}\\n')\n",
    "print(f'confusion matrix\\n {confusion_matrix(y_test, y_pred)}')\n",
    "print(classification_report(y_test, y_pred))"
   ]
  },
  {
   "cell_type": "markdown",
   "metadata": {},
   "source": [
    "The model is not necesarilly better, but observe a significant shift in the confusion matrix."
   ]
  },
  {
   "cell_type": "markdown",
   "metadata": {},
   "source": [
    "Finally, let us verify how the accuracy of traditional decision trees compares with the accuracy of [Random Forests](http://scikit-learn.org/stable/modules/generated/sklearn.ensemble.RandomForestClassifier.html#sklearn.ensemble.RandomForestClassifier)"
   ]
  },
  {
   "cell_type": "code",
   "execution_count": null,
   "metadata": {
    "ExecuteTime": {
     "end_time": "2021-05-04T08:18:35.098165Z",
     "start_time": "2021-05-04T08:18:35.014893Z"
    }
   },
   "outputs": [],
   "source": [
    "from sklearn.ensemble import RandomForestClassifier\n",
    "\n",
    "model = RandomForestClassifier(\n",
    "    criterion='gini',\n",
    "    n_estimators=10,\n",
    "    max_features=0.8,\n",
    "    n_jobs=-1,\n",
    "    random_state=42)\n",
    "\n",
    "# train the model\n",
    "model.fit(X_train, y_train)\n",
    "\n",
    "# apply the model\n",
    "y_pred = model.predict(X_test)\n",
    "\n",
    "print(f'accuracy: {accuracy_score(y_test, y_pred)}\\n')\n",
    "print(f'confusion matrix\\n {confusion_matrix(y_test, y_pred)}')\n",
    "print(classification_report(y_test, y_pred))"
   ]
  },
  {
   "cell_type": "markdown",
   "metadata": {},
   "source": [
    "### Bias vs variance tradeoff\n",
    "\n",
    "[Bias vs variance](https://en.wikipedia.org/wiki/Bias–variance_tradeoff) is a common problem in machine learning tasks. In very simple terms:\n",
    "\n",
    "* high bias is the result of errors in the underlying model (its assumptions, class of models, etc.)\n",
    "* high variance is the result of overfitting due to too many parameters\n",
    "\n",
    "This figure ilustrates the main idea:\n",
    "\n",
    "![bias vs variance](http://www.bogotobogo.com/python/scikit-learn/images/Bias-Tradeoff/Low-High-Variances-Biases.png)\n",
    "\n",
    "In the following sections we will verify how much accuracy changes depending on the size of the train set. First, we will recreate the dataset."
   ]
  },
  {
   "cell_type": "markdown",
   "metadata": {},
   "source": [
    "If you **really want to understand** bias vs variance problem, read [this](https://sebastianraschka.com/pdf/lecture-notes/stat479fs18/08_eval-intro_notes.pdf) "
   ]
  },
  {
   "cell_type": "code",
   "execution_count": null,
   "metadata": {
    "ExecuteTime": {
     "end_time": "2021-05-04T08:18:37.361001Z",
     "start_time": "2021-05-04T08:18:37.052315Z"
    }
   },
   "outputs": [],
   "source": [
    "df = pd.read_csv('http://dmlab.cs.put.poznan.pl/dokuwiki/lib/exe/fetch.php?media=dt_data.csv')\n",
    "\n",
    "df.drop('Unnamed: 3', axis=1, inplace=True)\n",
    "df.Spend_Drop_over50pct.replace([0,1], ['A','B'], inplace=True)\n",
    "\n",
    "gender_ = LabelEncoder().fit(df.Gender)\n",
    "df.Gender = gender_.transform(df.Gender)\n",
    "\n",
    "education_ = LabelEncoder().fit(df.Education_level)\n",
    "df.Education_level = education_.transform(df.Education_level)"
   ]
  },
  {
   "cell_type": "markdown",
   "metadata": {},
   "source": [
    "The next cell shows how to compute accuracy scores on the train set and the validation set for different dataset partitions. We use the 5-fold cross validation for each combination of the train/validation set size. The result contains accuracy scores for each fold."
   ]
  },
  {
   "cell_type": "code",
   "execution_count": null,
   "metadata": {
    "ExecuteTime": {
     "end_time": "2021-05-04T08:18:52.442892Z",
     "start_time": "2021-05-04T08:18:42.628606Z"
    }
   },
   "outputs": [],
   "source": [
    "from sklearn.model_selection import learning_curve\n",
    "\n",
    "train_sizes = range(1, 350)\n",
    "\n",
    "features = ['Gender', 'Education_level', 'Last_Month_spend', 'Last_3m_avg_spend']\n",
    "target = 'Spend_Drop_over50pct'\n",
    "\n",
    "train_sizes, train_scores, validation_scores = learning_curve(\n",
    "    estimator=DecisionTreeClassifier(max_depth=2),\n",
    "    X = df[features],\n",
    "    y = df[target],\n",
    "    train_sizes = train_sizes,\n",
    "    cv = 5,\n",
    "    scoring = 'accuracy',\n",
    "    shuffle = True)\n",
    "\n",
    "print('Training scores:\\n', train_scores)\n",
    "print()\n",
    "print('Validation scores:\\n', validation_scores)"
   ]
  },
  {
   "cell_type": "markdown",
   "metadata": {},
   "source": [
    "Since for each combination of the train/validation set size we receive 5 results (one for each fold of the cross validation), we have to aggregate these scores in order to produce the final plot."
   ]
  },
  {
   "cell_type": "code",
   "execution_count": null,
   "metadata": {
    "ExecuteTime": {
     "end_time": "2021-05-04T08:18:55.328725Z",
     "start_time": "2021-05-04T08:18:55.310851Z"
    }
   },
   "outputs": [],
   "source": [
    "train_scores_mean = train_scores.mean(axis = 1)\n",
    "validation_scores_mean = validation_scores.mean(axis = 1)\n",
    "\n",
    "print('Mean training scores\\n', pd.Series(train_scores_mean, index = train_sizes))\n",
    "print()\n",
    "print('\\nMean validation scores\\n',pd.Series(validation_scores_mean, index = train_sizes))"
   ]
  },
  {
   "cell_type": "code",
   "execution_count": null,
   "metadata": {
    "ExecuteTime": {
     "end_time": "2021-05-04T08:18:56.569416Z",
     "start_time": "2021-05-04T08:18:56.374411Z"
    }
   },
   "outputs": [],
   "source": [
    "import matplotlib.pyplot as plt\n",
    "%matplotlib inline\n",
    "\n",
    "plt.style.use('seaborn')\n",
    "\n",
    "plt.plot(train_sizes, 1-train_scores_mean, label = 'Training error')\n",
    "plt.plot(train_sizes, 1-validation_scores_mean, label = 'Validation error')\n",
    "\n",
    "plt.ylabel('Error', fontsize = 14)\n",
    "plt.xlabel('Training set size', fontsize = 14)\n",
    "plt.title('Learning curves for a decision tree model', fontsize = 18, y = 1.03)\n",
    "plt.legend()\n",
    "plt.ylim(0,1)"
   ]
  },
  {
   "cell_type": "code",
   "execution_count": null,
   "metadata": {
    "ExecuteTime": {
     "end_time": "2021-05-04T08:19:00.327973Z",
     "start_time": "2021-05-04T08:18:58.593087Z"
    }
   },
   "outputs": [],
   "source": [
    "import numpy as np\n",
    "from yellowbrick.model_selection import validation_curve\n",
    "\n",
    "from sklearn.tree import DecisionTreeClassifier\n",
    "\n",
    "viz = validation_curve(\n",
    "    DecisionTreeClassifier(), X, y, param_name=\"max_depth\",\n",
    "    param_range=np.arange(1, 25), cv=10, scoring=\"accuracy\",\n",
    ")"
   ]
  },
  {
   "cell_type": "code",
   "execution_count": null,
   "metadata": {
    "ExecuteTime": {
     "end_time": "2021-05-04T08:19:04.695786Z",
     "start_time": "2021-05-04T08:19:01.676825Z"
    }
   },
   "outputs": [],
   "source": [
    "from yellowbrick.model_selection import LearningCurve\n",
    "from sklearn.model_selection import StratifiedKFold\n",
    "\n",
    "# Create the learning curve visualizer\n",
    "cv = StratifiedKFold(n_splits=10)\n",
    "sizes = np.linspace(0.1, 1.0, 100)\n",
    "\n",
    "X_lc = OneHotEncoder().fit_transform(X)\n",
    "y_lc = LabelEncoder().fit_transform(y)\n",
    "\n",
    "# Instantiate the classification model and visualizer\n",
    "model = DecisionTreeClassifier()\n",
    "visualizer = LearningCurve(\n",
    "    model, \n",
    "    cv=cv, \n",
    "    scoring='accuracy', \n",
    "    train_sizes=sizes, \n",
    "    n_jobs=4\n",
    ")\n",
    "\n",
    "visualizer.fit(X_lc, y_lc)\n",
    "visualizer.show()"
   ]
  },
  {
   "cell_type": "markdown",
   "metadata": {},
   "source": [
    "### Homework\n",
    "\n",
    "1. Read the description of the [Italian wine dataset](http://archive.ics.uci.edu/ml/machine-learning-databases/wine/wine.names). \n",
    "1. Download the dataset from http://archive.ics.uci.edu/ml/machine-learning-databases/wine/wine.data and load it into a pandas DataFrame. **Careful: the label is the first column in the dataset!**\n",
    "1. Build a decision tree classifier and print out its accuracy. Instead of using a classical Decision Tree, you can experiment with [ExtraTreeClassifier](http://scikit-learn.org/stable/modules/generated/sklearn.tree.ExtraTreeClassifier.html#sklearn.tree.ExtraTreeClassifier) or a Random Forest\n",
    "1. Use the grid search to perform parameter space search and boost classifier's accuracy.\n",
    "1. Perform the _bias vs variance_ analysis\n",
    "1. Save your notebook as `firstname_lastname.ipynb` and upload it to the [shared folder](https://drive.google.com/drive/folders/12BZY9a0PXHh7hJMblz76mXtR6ZLI7-ee?usp=sharing)\n",
    "\n",
    "\n",
    "The deadline for assignment submission is Sunday, May 29th, 21:00."
   ]
  }
 ],
 "metadata": {
  "kernelspec": {
   "display_name": "Python 3 (ipykernel)",
   "language": "python",
   "name": "python3"
  },
  "language_info": {
   "codemirror_mode": {
    "name": "ipython",
    "version": 3
   },
   "file_extension": ".py",
   "mimetype": "text/x-python",
   "name": "python",
   "nbconvert_exporter": "python",
   "pygments_lexer": "ipython3",
   "version": "3.9.16"
  },
  "toc": {
   "base_numbering": 1,
   "nav_menu": {},
   "number_sections": true,
   "sideBar": true,
   "skip_h1_title": false,
   "title_cell": "Table of Contents",
   "title_sidebar": "Contents",
   "toc_cell": false,
   "toc_position": {},
   "toc_section_display": true,
   "toc_window_display": false
  },
  "varInspector": {
   "cols": {
    "lenName": 16,
    "lenType": 16,
    "lenVar": 40
   },
   "kernels_config": {
    "python": {
     "delete_cmd_postfix": "",
     "delete_cmd_prefix": "del ",
     "library": "var_list.py",
     "varRefreshCmd": "print(var_dic_list())"
    },
    "r": {
     "delete_cmd_postfix": ") ",
     "delete_cmd_prefix": "rm(",
     "library": "var_list.r",
     "varRefreshCmd": "cat(var_dic_list()) "
    }
   },
   "types_to_exclude": [
    "module",
    "function",
    "builtin_function_or_method",
    "instance",
    "_Feature"
   ],
   "window_display": false
  }
 },
 "nbformat": 4,
 "nbformat_minor": 4
}
