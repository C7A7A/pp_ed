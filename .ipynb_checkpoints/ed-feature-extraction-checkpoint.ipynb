{
 "cells": [
  {
   "cell_type": "markdown",
   "metadata": {},
   "source": [
    "# Ekstrakcja cech"
   ]
  },
  {
   "cell_type": "code",
   "execution_count": 1,
   "metadata": {
    "ExecuteTime": {
     "end_time": "2020-06-02T23:58:58.108299Z",
     "start_time": "2020-06-02T23:58:57.706200Z"
    }
   },
   "outputs": [],
   "source": [
    "%matplotlib inline\n",
    "\n",
    "import numpy as np\n",
    "\n",
    "import matplotlib.pyplot as plt\n",
    "from matplotlib.gridspec import GridSpec"
   ]
  },
  {
   "cell_type": "code",
   "execution_count": 2,
   "metadata": {
    "ExecuteTime": {
     "end_time": "2020-06-02T23:59:05.151542Z",
     "start_time": "2020-06-02T23:59:04.275318Z"
    }
   },
   "outputs": [
    {
     "data": {
      "text/plain": [
       "(array([[5.1, 3.5, 1.4, 0.2],\n",
       "        [4.9, 3. , 1.4, 0.2],\n",
       "        [4.7, 3.2, 1.3, 0.2],\n",
       "        [4.6, 3.1, 1.5, 0.2],\n",
       "        [5. , 3.6, 1.4, 0.2]]),\n",
       " array([0, 0, 0, 0, 0]))"
      ]
     },
     "execution_count": 2,
     "metadata": {},
     "output_type": "execute_result"
    }
   ],
   "source": [
    "from sklearn.datasets import load_iris\n",
    "\n",
    "data = load_iris()\n",
    "\n",
    "X = data['data']\n",
    "y = data['target']\n",
    "\n",
    "X[:5], y[:5]"
   ]
  },
  {
   "cell_type": "markdown",
   "metadata": {},
   "source": [
    "## Analiza składowych głównych\n",
    "\n",
    "W pierwszym kroku zobaczymy, w jaki sposób analiza składowych głównych (PCA) może posłużyć do redukcji wymiarowości zbioru danych. W metodzie PCA jest bardzo istotne, aby atrybuty redukowanego zbioru były porównywalne, więc konieczna jest normalizacja atrybutów. My posłużymy się standaryzacją."
   ]
  },
  {
   "cell_type": "code",
   "execution_count": 3,
   "metadata": {
    "ExecuteTime": {
     "end_time": "2020-06-03T00:02:44.115828Z",
     "start_time": "2020-06-03T00:02:44.107122Z"
    }
   },
   "outputs": [
    {
     "data": {
      "text/plain": [
       "(array([[-0.90068117,  1.01900435, -1.34022653, -1.3154443 ],\n",
       "        [-1.14301691, -0.13197948, -1.34022653, -1.3154443 ],\n",
       "        [-1.38535265,  0.32841405, -1.39706395, -1.3154443 ],\n",
       "        [-1.50652052,  0.09821729, -1.2833891 , -1.3154443 ],\n",
       "        [-1.02184904,  1.24920112, -1.34022653, -1.3154443 ]]),\n",
       " array([0, 0, 0, 0, 0]))"
      ]
     },
     "execution_count": 3,
     "metadata": {},
     "output_type": "execute_result"
    }
   ],
   "source": [
    "from sklearn.preprocessing import StandardScaler\n",
    "\n",
    "X_scaled = StandardScaler().fit(X).transform(X)\n",
    "\n",
    "X_scaled[:5], y[:5]"
   ]
  },
  {
   "cell_type": "markdown",
   "metadata": {},
   "source": [
    "Jako pierwszy przykład dokonamy redukcji zbioru danych z 4 wymiarów do 2 wymiarów. Kryterium, jakie maksymalizuje PCA, jest wariancja nowych wymiarów."
   ]
  },
  {
   "cell_type": "code",
   "execution_count": null,
   "metadata": {
    "ExecuteTime": {
     "end_time": "2020-06-03T00:03:59.870502Z",
     "start_time": "2020-06-03T00:03:59.757451Z"
    }
   },
   "outputs": [],
   "source": [
    "from sklearn.decomposition import PCA\n",
    "\n",
    "pca = PCA(n_components=2)\n",
    "\n",
    "X_pca = pca.fit(X).transform(X)\n",
    "X_pca[:5], y[:5]"
   ]
  },
  {
   "cell_type": "markdown",
   "metadata": {},
   "source": [
    "Spójrzmy, jak wygląda zbiór danych po redukcji i jak można zinterpretować nowe wymiary."
   ]
  },
  {
   "cell_type": "code",
   "execution_count": null,
   "metadata": {
    "ExecuteTime": {
     "end_time": "2020-06-03T00:04:24.528312Z",
     "start_time": "2020-06-03T00:04:24.074813Z"
    }
   },
   "outputs": [],
   "source": [
    "colrs = np.array(['red', 'green', 'blue'])\n",
    "\n",
    "fig = plt.figure(figsize=(6, 6))\n",
    "ax = fig.add_subplot(1, 1, 1)\n",
    "\n",
    "ax.set_title('PCA 2D', fontsize=20)\n",
    "ax.set_xlabel('składowa główna 1', fontsize=15)\n",
    "ax.set_ylabel('składowa główna 2', fontsize=15)\n",
    "ax.grid()\n",
    "\n",
    "ax.scatter(X_pca[:, 0], X_pca[:, 1], c=colrs[y], s=25)"
   ]
  },
  {
   "cell_type": "code",
   "execution_count": null,
   "metadata": {
    "ExecuteTime": {
     "end_time": "2020-06-03T00:05:29.139153Z",
     "start_time": "2020-06-03T00:05:29.133253Z"
    }
   },
   "outputs": [],
   "source": [
    "for i,v in enumerate(pca.explained_variance_ratio_):\n",
    "    print(f'Wariancja tłumaczona przez składową {i+1}: {v:.4f}')"
   ]
  },
  {
   "cell_type": "code",
   "execution_count": null,
   "metadata": {
    "ExecuteTime": {
     "end_time": "2020-06-03T00:05:55.629232Z",
     "start_time": "2020-06-03T00:05:55.625030Z"
    }
   },
   "outputs": [],
   "source": [
    "print(pca.components_)"
   ]
  },
  {
   "cell_type": "markdown",
   "metadata": {
    "ExecuteTime": {
     "end_time": "2020-06-02T15:09:11.309722Z",
     "start_time": "2020-06-02T15:09:11.306896Z"
    }
   },
   "source": [
    "Przykładowo, pierwsza z nowych współrzędnych jest wyliczana według wzoru:\n",
    "\n",
    "`pca_1 = 0.36 * 'sepal length (cm)' - 0.08 * 'sepal width (cm)' + 0.86 * 'petal length (cm)' + 0.36 * 'petal width (cm)'`"
   ]
  },
  {
   "cell_type": "markdown",
   "metadata": {},
   "source": [
    "Skoro pierwsza składowa tak dobrze tłumaczy wariancję, być może da się ten zbiór danych skompresować nawet bardziej?"
   ]
  },
  {
   "cell_type": "code",
   "execution_count": null,
   "metadata": {
    "ExecuteTime": {
     "end_time": "2020-06-03T00:07:27.961133Z",
     "start_time": "2020-06-03T00:07:27.935840Z"
    }
   },
   "outputs": [],
   "source": [
    "pca = PCA(n_components=1)\n",
    "\n",
    "X_pca = pca.fit(X).transform(X)\n",
    "X_pca[:5], y[:5]"
   ]
  },
  {
   "cell_type": "code",
   "execution_count": null,
   "metadata": {
    "ExecuteTime": {
     "end_time": "2020-06-03T00:08:36.672783Z",
     "start_time": "2020-06-03T00:08:36.328194Z"
    }
   },
   "outputs": [],
   "source": [
    "colrs = np.array(['red', 'green', 'blue'])\n",
    "\n",
    "fig = plt.figure(figsize=(6, 3))\n",
    "ax = fig.add_subplot(1, 1, 1)\n",
    "ax.set_title('PCA 1D', fontsize=20)\n",
    "ax.set_xlabel('składowa główna 1', fontsize=15)\n",
    "ax.set_ylim(-1., 1.)\n",
    "ax.grid()\n",
    "\n",
    "for c in np.unique(y):\n",
    "    idx = y == c\n",
    "    vals = X_pca[idx, 0]\n",
    "    ax.scatter(vals, np.zeros_like(vals) + np.random.uniform(-0.1,\n",
    "                                                             0.1, len(vals)), s=25, color=colrs[c])"
   ]
  },
  {
   "cell_type": "markdown",
   "metadata": {},
   "source": [
    "## Samoorganizujące się mapy\n",
    "\n",
    "Poniższy kod pokazuje użycie SOM-ów (zwanych też mapami Kohonena) do redukcji wymiarowości problemu przez nienadzorowane uczenie sieci neuronowej. Posłużymy się do tego celu zbiorem `Iris` który oryginalnie posiada cztery wymiary.\n",
    "\n",
    "Przed wykonaniem ćwiczenia zainstaluj potrzebny pakiet wywołując polecenie\n",
    "\n",
    "```bash\n",
    "bash$ pip install minisom\n",
    "```\n",
    "\n",
    "lub uruchamiając polecenie bezpośrednio w komórce notatnika:\n",
    "\n",
    "```\n",
    "!pip install minisom\n",
    "```"
   ]
  },
  {
   "cell_type": "code",
   "execution_count": null,
   "metadata": {
    "ExecuteTime": {
     "end_time": "2020-06-03T00:14:18.170273Z",
     "start_time": "2020-06-03T00:14:18.161814Z"
    }
   },
   "outputs": [],
   "source": [
    "from minisom import MiniSom\n",
    "\n",
    "som_size = (5,5)\n",
    "som = MiniSom(som_size[0], som_size[1], 4, sigma=0.3, learning_rate=0.5)"
   ]
  },
  {
   "cell_type": "markdown",
   "metadata": {},
   "source": [
    "Wagi sieci neuronowej mogą być inicjalizowane na dwa sposoby:\n",
    "\n",
    "- losowo (`random_weights_init()`\n",
    "- przy użyciu metody składowych głównych (`pca_weights_init`)\n",
    "\n",
    "Sam proces trenowania sieci może się także odbywać na dwa sposoby:\n",
    "\n",
    "- losowo (`train_random()`)\n",
    "- przy użyciu mini-batchy (`train_batch()`)"
   ]
  },
  {
   "cell_type": "code",
   "execution_count": null,
   "metadata": {
    "ExecuteTime": {
     "end_time": "2020-06-03T00:15:21.715521Z",
     "start_time": "2020-06-03T00:15:18.214952Z"
    }
   },
   "outputs": [],
   "source": [
    "som.random_weights_init(X)\n",
    "som.train_random(X, 10000, verbose=True)\n",
    "\n",
    "# som.pca_weights_init(X)\n",
    "# som.train_batch(X, 10000, verbose=True) "
   ]
  },
  {
   "cell_type": "markdown",
   "metadata": {},
   "source": [
    "Pierwsza wizualizacja pokazuje odległości między poszczególnymi neuronami"
   ]
  },
  {
   "cell_type": "code",
   "execution_count": null,
   "metadata": {
    "ExecuteTime": {
     "end_time": "2020-06-03T00:15:31.952523Z",
     "start_time": "2020-06-03T00:15:31.140689Z"
    }
   },
   "outputs": [],
   "source": [
    "plt.figure(figsize=(8, 7))\n",
    "plt.pcolor(som.distance_map().T, cmap='bone_r')\n",
    "plt.colorbar()\n",
    "\n",
    "markers = ['o', 's', 'D']\n",
    "colors = ['C0', 'C1', 'C2']\n",
    "\n",
    "for cnt, xx in enumerate(X):\n",
    "    w = som.winner(xx)\n",
    "    plt.plot(w[0]+.5, w[1]+.5, markers[y[cnt]], markerfacecolor='None',\n",
    "             markeredgecolor=colors[y[cnt]], markersize=12, markeredgewidth=2)\n",
    "\n",
    "plt.axis([0, som_size[0], 0, som_size[1]])\n",
    "plt.show()"
   ]
  },
  {
   "cell_type": "markdown",
   "metadata": {
    "ExecuteTime": {
     "end_time": "2019-06-02T19:45:22.913336Z",
     "start_time": "2019-06-02T19:45:22.903483Z"
    }
   },
   "source": [
    "Druga wizualizacja pokazuje częstotliwość aktywacji poszczególnych neuronów"
   ]
  },
  {
   "cell_type": "code",
   "execution_count": null,
   "metadata": {
    "ExecuteTime": {
     "end_time": "2020-06-03T00:16:24.104766Z",
     "start_time": "2020-06-03T00:16:23.625262Z"
    }
   },
   "outputs": [],
   "source": [
    "plt.figure(figsize=(8, 7))\n",
    "frequencies = np.zeros(som_size)\n",
    "\n",
    "for position, values in som.win_map(X).items():\n",
    "    frequencies[position[0], position[1]] = len(values)\n",
    "\n",
    "plt.pcolor(frequencies, cmap='Blues')\n",
    "plt.colorbar()\n",
    "plt.show()"
   ]
  },
  {
   "cell_type": "markdown",
   "metadata": {},
   "source": [
    "Ostatnia wizualizacja wyświetla stopień jednorodności poszczególnych neuronów"
   ]
  },
  {
   "cell_type": "code",
   "execution_count": null,
   "metadata": {
    "ExecuteTime": {
     "end_time": "2020-06-03T00:16:51.902558Z",
     "start_time": "2020-06-03T00:16:50.668742Z"
    }
   },
   "outputs": [],
   "source": [
    "labels_map = som.labels_map(X, y)\n",
    "label_names = np.unique(y)\n",
    "\n",
    "plt.figure(figsize=(8, 7))\n",
    "the_grid = GridSpec(5, 5)\n",
    "\n",
    "for position in labels_map.keys():\n",
    "\n",
    "    label_fracs = [labels_map[position][l] for l in label_names]\n",
    "    plt.subplot(the_grid[2-position[1], position[0]], aspect=1)\n",
    "    patches, texts = plt.pie(label_fracs)\n",
    "\n",
    "plt.legend(patches, data.target_names, bbox_to_anchor=(0, 1.5), ncol=3)\n",
    "plt.show()"
   ]
  },
  {
   "cell_type": "markdown",
   "metadata": {},
   "source": [
    "Przypisanie każdego obiektu do konkretnego neuronu na samoorganizującej się mapie"
   ]
  },
  {
   "cell_type": "code",
   "execution_count": null,
   "metadata": {
    "ExecuteTime": {
     "end_time": "2020-06-03T00:17:34.110345Z",
     "start_time": "2020-06-03T00:17:33.982365Z"
    }
   },
   "outputs": [],
   "source": [
    "for x in X:\n",
    "    print(f'{x}: {som.winner(x)}')"
   ]
  },
  {
   "cell_type": "code",
   "execution_count": null,
   "metadata": {},
   "outputs": [],
   "source": []
  }
 ],
 "metadata": {
  "kernelspec": {
   "display_name": "Python 3 (ipykernel)",
   "language": "python",
   "name": "python3"
  },
  "language_info": {
   "codemirror_mode": {
    "name": "ipython",
    "version": 3
   },
   "file_extension": ".py",
   "mimetype": "text/x-python",
   "name": "python",
   "nbconvert_exporter": "python",
   "pygments_lexer": "ipython3",
   "version": "3.9.16"
  },
  "toc": {
   "base_numbering": 1,
   "nav_menu": {},
   "number_sections": false,
   "sideBar": true,
   "skip_h1_title": false,
   "title_cell": "Table of Contents",
   "title_sidebar": "Contents",
   "toc_cell": false,
   "toc_position": {},
   "toc_section_display": true,
   "toc_window_display": false
  },
  "varInspector": {
   "cols": {
    "lenName": 16,
    "lenType": 16,
    "lenVar": 40
   },
   "kernels_config": {
    "python": {
     "delete_cmd_postfix": "",
     "delete_cmd_prefix": "del ",
     "library": "var_list.py",
     "varRefreshCmd": "print(var_dic_list())"
    },
    "r": {
     "delete_cmd_postfix": ") ",
     "delete_cmd_prefix": "rm(",
     "library": "var_list.r",
     "varRefreshCmd": "cat(var_dic_list()) "
    }
   },
   "types_to_exclude": [
    "module",
    "function",
    "builtin_function_or_method",
    "instance",
    "_Feature"
   ],
   "window_display": false
  }
 },
 "nbformat": 4,
 "nbformat_minor": 2
}
