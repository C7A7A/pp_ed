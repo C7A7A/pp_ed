{
 "cells": [
  {
   "cell_type": "code",
   "execution_count": 225,
   "metadata": {},
   "outputs": [],
   "source": [
    "import pandas as pd\n",
    "from mlxtend.preprocessing import TransactionEncoder\n",
    "from mlxtend.frequent_patterns import apriori, association_rules"
   ]
  },
  {
   "cell_type": "code",
   "execution_count": 226,
   "metadata": {},
   "outputs": [],
   "source": [
    "movies = pd.read_csv('data/movies.csv')\n",
    "ratings = pd.read_csv('data/ratings.csv')"
   ]
  },
  {
   "cell_type": "code",
   "execution_count": 227,
   "metadata": {},
   "outputs": [],
   "source": [
    "movies_ratings = ratings.merge(movies[['movieId', 'title']], how=\"inner\", on=\"movieId\")\n",
    "movies_ratings.drop('timestamp', axis=1, inplace=True)\n",
    "# movies_ratings['title'] = movies_ratings['title'].apply(lambda x: x[:len(x) - 6])\n",
    "# display(movies_ratings)\n",
    "# print(len(movies_ratings.index))\n",
    "\n",
    "positive_mask = movies_ratings.rating >= 4\n",
    "good_movies = movies_ratings[positive_mask]\n",
    "# print(len(good_movies.index))\n",
    "# display(good_movies)\n",
    "\n",
    "negative_mask = movies_ratings.rating <= 2\n",
    "bad_movies = movies_ratings[negative_mask]\n",
    "# print(len(bad_movies.index))\n",
    "# display(bad_movies)"
   ]
  },
  {
   "cell_type": "code",
   "execution_count": 228,
   "metadata": {},
   "outputs": [],
   "source": [
    "def create_association_rules(movies_df, metric=\"confidence\", min_support=0.05, min_threshold=0.7):\n",
    "    movies_per_user = movies_df.groupby('userId')['title'].apply(list).reset_index()\n",
    "    movies_list = movies_per_user['title'].tolist()\n",
    "\n",
    "    te = TransactionEncoder()\n",
    "    te_array = te.fit(movies_list).transform(movies_list)\n",
    "\n",
    "    movies_support = pd.DataFrame(te_array, columns=te.columns_)\n",
    "\n",
    "    frequent_itemsets = apriori(movies_support, min_support=min_support, use_colnames=True)\n",
    "\n",
    "    return association_rules(frequent_itemsets, metric=metric, min_threshold=min_threshold)\n",
    "    "
   ]
  },
  {
   "cell_type": "code",
   "execution_count": 229,
   "metadata": {},
   "outputs": [],
   "source": [
    "def get_recommendations(rules, movies):\n",
    "    recommendations = rules['antecedents'].apply(lambda x: x.issuperset(movies))\n",
    "    recommendation_sets = rules[recommendations]['consequents'].unique()\n",
    "\n",
    "    recommendation_list = []\n",
    "    for set in recommendation_sets:\n",
    "        recommendation_list.extend(set)\n",
    "        \n",
    "    return recommendation_list\n"
   ]
  },
  {
   "attachments": {},
   "cell_type": "markdown",
   "metadata": {},
   "source": [
    "### Well rated movies"
   ]
  },
  {
   "cell_type": "code",
   "execution_count": 246,
   "metadata": {},
   "outputs": [],
   "source": [
    "rules = create_association_rules(movies_df = good_movies, min_support=0.06, min_threshold=0.75)\n",
    "# print(rules.shape)"
   ]
  },
  {
   "cell_type": "code",
   "execution_count": 247,
   "metadata": {},
   "outputs": [
    {
     "data": {
      "text/plain": [
       "['American Beauty (1999)',\n",
       " 'Silence of the Lambs, The (1991)',\n",
       " 'Godfather, The (1972)',\n",
       " 'Usual Suspects, The (1995)',\n",
       " 'Seven (a.k.a. Se7en) (1995)',\n",
       " 'Star Wars: Episode V - The Empire Strikes Back (1980)',\n",
       " 'Star Wars: Episode IV - A New Hope (1977)']"
      ]
     },
     "metadata": {},
     "output_type": "display_data"
    }
   ],
   "source": [
    "movies = {'Pulp Fiction (1994)', 'Reservoir Dogs (1992)'}\n",
    "recommendations = get_recommendations(rules, movies)\n",
    "display(recommendations)"
   ]
  },
  {
   "attachments": {},
   "cell_type": "markdown",
   "metadata": {},
   "source": [
    "### Poorly rated movies"
   ]
  },
  {
   "cell_type": "code",
   "execution_count": 258,
   "metadata": {},
   "outputs": [],
   "source": [
    "rules = create_association_rules(movies_df = bad_movies, min_support=0.01, min_threshold=0.6)\n",
    "# print(rules.shape)"
   ]
  },
  {
   "cell_type": "code",
   "execution_count": 259,
   "metadata": {},
   "outputs": [
    {
     "data": {
      "text/plain": [
       "['Ace Ventura: Pet Detective (1994)',\n",
       " 'Ace Ventura: When Nature Calls (1995)',\n",
       " 'Armageddon (1998)']"
      ]
     },
     "metadata": {},
     "output_type": "display_data"
    }
   ],
   "source": [
    "movies = {'Mask, The (1994)'}\n",
    "recommendations = get_recommendations(rules, movies)\n",
    "display(recommendations)"
   ]
  },
  {
   "cell_type": "code",
   "execution_count": null,
   "metadata": {},
   "outputs": [],
   "source": []
  }
 ],
 "metadata": {
  "kernelspec": {
   "display_name": "data-mining",
   "language": "python",
   "name": "python3"
  },
  "language_info": {
   "codemirror_mode": {
    "name": "ipython",
    "version": 3
   },
   "file_extension": ".py",
   "mimetype": "text/x-python",
   "name": "python",
   "nbconvert_exporter": "python",
   "pygments_lexer": "ipython3",
   "version": "3.9.16"
  },
  "orig_nbformat": 4,
  "vscode": {
   "interpreter": {
    "hash": "37c84837fc4fd1faa9db1a7133d3fd5fa3c27db82248d20b8fc0158524635998"
   }
  }
 },
 "nbformat": 4,
 "nbformat_minor": 2
}
