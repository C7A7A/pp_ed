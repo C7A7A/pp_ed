{
 "cells": [
  {
   "cell_type": "markdown",
   "id": "3485e1d2-1c14-4e6a-8ce0-f3b218f0c4ba",
   "metadata": {},
   "source": [
    "# Miner's Arena\n",
    "\n",
    "Welcome to the Miner's Arena where the blood runs thick and warriors' lives are cheap. Enter the pit for eternal glory or for eternal sleep."
   ]
  },
  {
   "cell_type": "markdown",
   "id": "5f4457ca-0160-4c92-a88d-7714f9a9a577",
   "metadata": {},
   "source": [
    "## Rules of the Arena"
   ]
  },
  {
   "cell_type": "markdown",
   "id": "6b85c799-820d-46b7-985c-e54eec12cde4",
   "metadata": {},
   "source": [
    "The rules are simple. All warriors start the tournament with equal strength of 100 points. At each step, two warriors are randomly chosen and they perform a round of combat. Each warrior decides to perform one of the following actions:\n",
    "\n",
    "- **FIGHT**: the warrior attacks the opponent\n",
    "- **DEFEND**: the warrior actively defends herself/himself\n",
    "- **FLEE**: the warrior runs away from the opponent\n",
    "\n",
    "Depending on the combination of selected actions, the warriors sustain the following wounds (rows and first values represent the decision of the first warrior, respectively):\n",
    "\n",
    "|            | **FIGHT** | **DEFEND** | **FLEE** |\n",
    "|------------|:---------:|:----------:|:--------:|\n",
    "| **FIGHT**  |  -15, -15 |   -2, -5   |  0, -10  |\n",
    "| **DEFEND** |   -5, 2   |   -5, -5   |   0, -1  |\n",
    "| **FLEE**   |   -10, 0  |    -1, 0   |  -1, -1  |"
   ]
  },
  {
   "cell_type": "markdown",
   "id": "d3d61110-c707-4b1b-8529-a7595de5089b",
   "metadata": {},
   "source": [
    "For instance, if the first warrior decides to **FIGHT** and the second warrior decides to **FLEE**, the first warrior does not sustain any wounds while the fleeing opponent loses 10 pts of strength.\n",
    "\n",
    "When asked to make the decision, the warrior receives the full history of her/his opponent decisions. The history consists of tuples, where each tuple contains the strenght of the fighter the opponent was facing and the decision made by the opponent. For instance, the history `[(50, FIGHT), (98, DEFEND), (75, DEFEND)]` means that the opponent has participated in three rounds of combat, during the first round has decided to **FIGHT** (and the other fighter was down to the half of strength), and during the next two rounds has decided to **DEFEND** (in both cases other fighters were relatively strong). *Remember that during the first round of combat of a warrior, her/his history will be an empty list!*\n",
    "\n",
    "Besides the history of opponent's fighting, the fighter receives also her/his own strength and the current strength of the opponent."
   ]
  },
  {
   "cell_type": "markdown",
   "id": "49eeab04-66cc-4df9-b54f-d94704616dc3",
   "metadata": {},
   "source": [
    "Your task is to prepare a strategy of combat. You don't know who will you face or how many times you will be selected to fight. Your goal is to survive until the end of the tournament. Remember: there can be only one! To make sure that the results are not due to chance, the tournament will be run 1000 times and the final ranking will be made based on the total number of wins."
   ]
  },
  {
   "cell_type": "markdown",
   "id": "eb0a689e-51db-4828-8b57-01e29c00c902",
   "metadata": {},
   "source": [
    "## Example\n",
    "\n",
    "Below you will see the example of a warrior and the way the tournament will be played. Read through the code, execute it, read the comments and make sure you understand it."
   ]
  },
  {
   "cell_type": "markdown",
   "id": "b06c4fa9-7f01-4266-8bf4-bd9c262a2dec",
   "metadata": {},
   "source": [
    "We begin by some obvious imports and the definition of constants."
   ]
  },
  {
   "cell_type": "code",
   "execution_count": null,
   "id": "48df3653-7bac-4afe-a58f-85aab36fbc7a",
   "metadata": {},
   "outputs": [],
   "source": [
    "import numpy as np\n",
    "from typing import List, Tuple, Callable\n",
    "\n",
    "# actions\n",
    "FIGHT = 1\n",
    "DEFEND = 0\n",
    "FLEE = -1\n",
    "\n",
    "# typing hints\n",
    "Strength = int\n",
    "Decision = int\n",
    "History = List[Tuple[Strength, Decision]]\n",
    "Strategy = Callable[[Strength, Strength, History], Decision]\n",
    "\n",
    "# combat outcomes\n",
    "OUTCOMES = {\n",
    "    (FIGHT, FIGHT): (-15, -15),\n",
    "    (FIGHT, DEFEND): (-2, -5),\n",
    "    (DEFEND, FIGHT): (-5, -2),\n",
    "    (FIGHT, FLEE): (0, -10),\n",
    "    (FLEE, FIGHT): (-10, 0),\n",
    "    (DEFEND, DEFEND): (-5, -5),\n",
    "    (DEFEND, FLEE): (0, -1),\n",
    "    (FLEE, DEFEND): (-3, 0),\n",
    "    (FLEE, FLEE): (-1, -1),\n",
    "}"
   ]
  },
  {
   "cell_type": "markdown",
   "id": "4f120dd6-18d8-4ee3-ad89-4c0e664f5fb1",
   "metadata": {},
   "source": [
    "Next is the definition of the `Warrior` class"
   ]
  },
  {
   "cell_type": "code",
   "execution_count": null,
   "id": "05a47503-2e96-4f82-9553-27af37910530",
   "metadata": {},
   "outputs": [],
   "source": [
    "class Warrior:\n",
    "    def __init__(self, name: str, strategy: Strategy):\n",
    "        self.name = name\n",
    "        self.strategy = strategy\n",
    "        self.history: History = []\n",
    "        self.strength = 100\n",
    "\n",
    "    def action(self, opponent_strength: Strength, opponent_history: History):\n",
    "        return self.strategy(self.strength, opponent_strength, list(opponent_history))\n",
    "\n",
    "    def engage(self, opponent):\n",
    "        my_action = self.action(opponent.strength, opponent.history)\n",
    "        opponent_action = opponent.action(self.strength, self.history)\n",
    "\n",
    "        # update combat history by recording actions taken by the warriors during this turn\n",
    "        self.history.append((opponent.strength, my_action))\n",
    "        opponent.history.append((self.strength, opponent_action))\n",
    "\n",
    "        # compute the wounds sustained by the warriors\n",
    "        my_wound, opponent_wound = OUTCOMES[my_action, opponent_action]\n",
    "\n",
    "        # update the strength of each warrior\n",
    "        self.strength = max(0, self.strength + my_wound)\n",
    "        opponent.strength = max(0, opponent.strength + opponent_wound)\n",
    "\n",
    "    @property\n",
    "    def is_alive(self):\n",
    "        return self.strength > 0"
   ]
  },
  {
   "cell_type": "markdown",
   "id": "9b6897a9-1dc7-429d-873f-74ec97a8c29c",
   "metadata": {},
   "source": [
    "Let's start with an example of a very simple strategy, where the warrior always flees from the combat. "
   ]
  },
  {
   "cell_type": "code",
   "execution_count": null,
   "id": "89afb137-e815-47ce-956a-f06680f80139",
   "metadata": {},
   "outputs": [],
   "source": [
    "def coward(own_strength, opponent_strength, history):\n",
    "    \"\"\"Always flees from the battlefield.\n",
    "    \n",
    "        >>> coward(100, 10, [])\n",
    "        -1\n",
    "        >>> coward(100, 10, [(100, 1)])\n",
    "        -1\n",
    "        >>> coward(100, 10, [(100, 1), (99, 1), (98, 1)])\n",
    "        -1\n",
    "    \"\"\"\n",
    "    return FLEE"
   ]
  },
  {
   "cell_type": "markdown",
   "id": "3aa53ed2-7ade-4bdf-94fa-d00647fa0666",
   "metadata": {},
   "source": [
    "You will implement a very similar function. It may be much more complex, it may involve machine learning, it may implement a simple heuristic, whatever works. Make sure to write at least these three [docstring tests](https://docs.python.org/3/library/doctest.html) to verify if your warrior can properly handle each of the three scenarios:\n",
    "- the opponent hasn't fought yet, her/his history is empty\n",
    "- the opponent has fought a single combat\n",
    "- the opponent has the history of combat consisting of several rounds\n",
    "\n",
    "To run docstring tests execute the following cell"
   ]
  },
  {
   "cell_type": "code",
   "execution_count": null,
   "id": "eb4032a5-f3e5-461c-8702-bd4a2c88953a",
   "metadata": {},
   "outputs": [],
   "source": [
    "import doctest\n",
    "\n",
    "doctest.testmod()"
   ]
  },
  {
   "cell_type": "markdown",
   "id": "2486c4a3-23bd-45c9-8ada-8a7b65277fa7",
   "metadata": {},
   "source": [
    "Here are three more examples of fighting strategies:\n",
    "- *berserker*: always attacks\n",
    "- *random warrior*: selects the action completely randomly\n",
    "- *mirror warrior*: mirrors the most frequent action of the opponent"
   ]
  },
  {
   "cell_type": "code",
   "execution_count": null,
   "id": "e167c37c-c02a-489f-9e37-d8b622f64f70",
   "metadata": {},
   "outputs": [],
   "source": [
    "def berserker(own_strength, opponent_strength, history):\n",
    "    \"\"\"Always attack, no matter the cost.\n",
    "    \n",
    "        >>> berserker(100, 10, [])\n",
    "        1\n",
    "        >>> berserker(100, 10, [(100, 1)])\n",
    "        1\n",
    "        >>> berserker(100, 10, [(100, 1), (99, 1), (98, 1)])\n",
    "        1\n",
    "    \"\"\"\n",
    "    return FIGHT"
   ]
  },
  {
   "cell_type": "code",
   "execution_count": null,
   "id": "0956fcee-bebd-402b-a1ab-8468ce29abcb",
   "metadata": {},
   "outputs": [],
   "source": [
    "def random_warrior(own_strength, opponent_strength, history):\n",
    "    \"\"\"Choose a random action.\n",
    "    \n",
    "        >>> random_warrior(100, 10, []) in [FLEE, DEFEND, FIGHT]\n",
    "        True\n",
    "        >>> random_warrior(100, 10, [(100, 1)]) in [FLEE, DEFEND, FIGHT]\n",
    "        True\n",
    "        >>> random_warrior(100, 10, [(100, 1), (99, 1), (98, 1)]) in [FLEE, DEFEND, FIGHT]\n",
    "        True\n",
    "    \"\"\"\n",
    "    return np.random.choice([FIGHT, DEFEND, FLEE])"
   ]
  },
  {
   "cell_type": "code",
   "execution_count": null,
   "id": "5761be39-c91d-41e4-9f3b-052f1b5d8e77",
   "metadata": {},
   "outputs": [],
   "source": [
    "from statistics import mode\n",
    "\n",
    "def mirror_warrior(own_strength, opponent_strength, history):\n",
    "    \"\"\"Choose the most frequent action of the opponent. If no history is available, choose a random action.\n",
    "       Make sure to check what happens if two or more actions appear in the history with the same frequency!\n",
    "    \n",
    "        >>> mirror_warrior(100, 10, []) in [FLEE, DEFEND, FIGHT]\n",
    "        True\n",
    "        >>> mirror_warrior(100, 10, [(100, 1)])\n",
    "        1\n",
    "        >>> mirror_warrior(100, 10, [(100, 0), (99, 1), (98, 0), (98, 1)])\n",
    "        0\n",
    "    \"\"\"\n",
    "    if history:\n",
    "        _, actions = zip(*history)\n",
    "        return mode(actions)\n",
    "    else:\n",
    "        return np.random.choice([FIGHT, DEFEND, FLEE])"
   ]
  },
  {
   "cell_type": "markdown",
   "id": "6eeadf36-05bf-47a4-b189-27901b10af37",
   "metadata": {},
   "source": [
    "Finally, let's take a look at the Arena and at the mechanics of combat. In this example I am creating one warrior for each of the above strategies. In reality, the Arena will be populated by the warriors you implement. But I might add a few surprise warriors myself..."
   ]
  },
  {
   "cell_type": "code",
   "execution_count": null,
   "id": "4a768899-8723-4f82-ada4-4c44c1dfdf80",
   "metadata": {},
   "outputs": [],
   "source": [
    "class Arena:\n",
    "    def __init__(self):\n",
    "        self.warriors = []\n",
    "        \n",
    "    def add(self, warrior: Warrior):\n",
    "        self.warriors.append(warrior)\n",
    "\n",
    "    def turn(self):\n",
    "        # randomly pick two warriors\n",
    "        first_warrior, second_warrior = np.random.choice(self.warriors, size=2, replace=False)\n",
    "\n",
    "        first_warrior.engage(second_warrior)\n",
    "\n",
    "        # remove the warrior from the Arena if s/he was killed during this turn\n",
    "        if not first_warrior.is_alive:\n",
    "            print(f\"{second_warrior.name} kills {first_warrior.name}\")\n",
    "            self.warriors.remove(first_warrior)\n",
    "        if not second_warrior.is_alive:\n",
    "            print(f\"{first_warrior.name} kills {second_warrior.name}\")\n",
    "            self.warriors.remove(second_warrior)\n",
    "\n",
    "    def tournament(self, max_number_of_turns: int):\n",
    "        turn = 1\n",
    "\n",
    "        while len(self.warriors) > 1 and turn <= max_number_of_turns:\n",
    "            turn += 1\n",
    "            self.turn()\n",
    "\n",
    "        if len(self.warriors) == 1:\n",
    "            print(f\"There can be only one! {self.warriors[0].name}\")\n",
    "        elif len(self.warriors) == 0:\n",
    "            print(f\"All lying dead on the arena\")\n",
    "        else:\n",
    "            print(f\"Just cowards running around...\")"
   ]
  },
  {
   "cell_type": "markdown",
   "id": "45bdf281-6d78-41b8-9855-967368cc4c25",
   "metadata": {},
   "source": [
    "The last step is to run the combat on the Arena. We limit the number of turns, because one possibility is that only cowards remain and they would never engage in combat. If the tournament ends with more than one warrior on the Arena (i.e. two or more cowards), or if all are lying dead (the last two warriors killed each other during the last turn), no one is declared the winner."
   ]
  },
  {
   "cell_type": "code",
   "execution_count": null,
   "id": "1a36456a-ab96-4372-b9b0-23993162630f",
   "metadata": {},
   "outputs": [],
   "source": [
    "arena = Arena()\n",
    "\n",
    "arena.add(Warrior(\"Erik the Mouseheart\", coward))\n",
    "arena.add(Warrior(\"Harald the Thickhead\", berserker))\n",
    "arena.add(Warrior(\"Olaf the Clueless\", random_warrior))\n",
    "arena.add(Warrior(\"Rolf the Mimic\", mirror_warrior))\n",
    "\n",
    "arena.tournament(max_number_of_turns=1000)"
   ]
  },
  {
   "cell_type": "markdown",
   "id": "a1752b41-ed76-44fa-9ef6-60145462d57e",
   "metadata": {},
   "source": [
    "## Assignment\n",
    "\n",
    "Prepare your own function which will be used as your fighting strategy. The name of the function does not matter. You can use all standard libraries available through `pip`. Please abide by the following rules:\n",
    "\n",
    "- your function cannot use self-inspection to try to manipulate your own strength (such attempts disqualify the warrior)\n",
    "- your function cannot assume any particular name of the opponent (i.e. you cannot form coalitions, everyone fends for themselves)\n",
    "- please make sure that your function works correctly via docstring tests\n",
    "\n",
    "Send your function as a text attachment to Mikolaj.Morzy@put.poznan.pl. Put [arena] in the subject line of your message. As a bonus, you may ask for a particular name of your fighter. The deadline for submissions is **Sunday, June 11, 9pm**."
   ]
  }
 ],
 "metadata": {
  "kernelspec": {
   "display_name": "Python 3 (ipykernel)",
   "language": "python",
   "name": "python3"
  },
  "language_info": {
   "codemirror_mode": {
    "name": "ipython",
    "version": 3
   },
   "file_extension": ".py",
   "mimetype": "text/x-python",
   "name": "python",
   "nbconvert_exporter": "python",
   "pygments_lexer": "ipython3",
   "version": "3.9.13"
  }
 },
 "nbformat": 4,
 "nbformat_minor": 5
}
